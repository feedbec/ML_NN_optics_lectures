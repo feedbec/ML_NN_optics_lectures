{
 "cells": [
  {
   "cell_type": "markdown",
   "id": "d3d97c85-278b-45bc-8d2f-3d7e5f906fcc",
   "metadata": {},
   "source": [
    "# Введение в Python"
   ]
  },
  {
   "cell_type": "markdown",
   "id": "a119e237-0bdb-495d-9796-9eaa6b6bc3d4",
   "metadata": {},
   "source": [
    "### Краткая история языка Python\n",
    "\n",
    "Python был создан в конце 1980-х годов голландским программистом **Гвидо ван Россумом**. Разработка языка началась как хобби, а его название было вдохновлено комедийным шоу *Monty Python*. Первая версия Python (0.9.0) была выпущена в 1991 году. В 2000 году вышла Python 2.0, а в 2008 году — Python 3.0, который стал важным шагом в развитии языка, устранив многие недостатки предыдущих версий.\n",
    "\n",
    "Python быстро завоевал популярность благодаря своей простоте, читаемости и универсальности. Сегодня он широко применяется в различных областях:\n",
    "- **Веб-разработка** (фреймворки Django, Flask);\n",
    "- **Анализ данных и машинное обучение** (библиотеки Pandas, NumPy, Scikit-learn, TensorFlow, Keras);\n",
    "- **Научные вычисления** (SciPy, Matplotlib);\n",
    "- **Автоматизация и DevOps** (скриптинг, Ansible);\n",
    "- **Разработка игр** (Pygame).\n"
   ]
  },
  {
   "cell_type": "markdown",
   "id": "78014142-b0f6-43b8-b364-85d73aa5f561",
   "metadata": {},
   "source": [
    "Python считается относительно медленным языком программирования по следующим причинам\n",
    "\n",
    "---\n",
    "\n",
    "### 1. **Интерпретируемость**\n",
    "   - Python — это интерпретируемый язык, а не компилируемый. Это означает, что код выполняется построчно через интерпретатор (например, CPython), а не преобразуется заранее в машинный код. Это добавляет накладные расходы на выполнение программы.\n",
    "   - В отличие от компилируемых языков (например, C или C++), где код компилируется в бинарный файл и выполняется напрямую процессором, Python требует дополнительного слоя интерпретации.\n",
    "\n",
    "---\n",
    "\n",
    "### 2. **Динамическая типизация**\n",
    "   - Python использует динамическую типизацию, то есть типы переменных определяются во время выполнения программы. Это требует дополнительных проверок и преобразований на лету, что замедляет выполнение кода.\n",
    "   - В статически типизированных языках (например, Java или C++) типы данных известны на этапе компиляции, что позволяет оптимизировать выполнение.\n",
    "\n",
    "---\n",
    "\n",
    "### 3. **Управление памятью**\n",
    "   - Python использует автоматическое управление памятью через механизм **сборки мусора** (garbage collection). Это удобно для разработчика, но добавляет накладные расходы на выполнение программы.\n",
    "   - В языках с ручным управлением памятью (например, C или C++) программист сам контролирует выделение и освобождение памяти, что позволяет писать более эффективный код.\n",
    "\n",
    "---\n",
    "\n",
    "### 4. **GIL (Global Interpreter Lock)**\n",
    "   - В реализации CPython (самая популярная реализация Python) существует **Global Interpreter Lock** (GIL). Это механизм, который позволяет выполнять только один поток Python одновременно, даже на многоядерных процессорах. Это ограничивает возможности параллельного выполнения кода и снижает производительность в многопоточных приложениях.\n",
    "\n",
    "---\n",
    "\n",
    "### 5. **Высокоуровневость**\n",
    "   - Python — это высокоуровневый язык, который абстрагирует множество низкоуровневых деталей (например, управление памятью, указатели). Это упрощает разработку, но добавляет накладные расходы на выполнение.\n",
    "   - Низкоуровневые языки (например, C или Rust) позволяют писать более оптимизированный код, но требуют больше усилий от разработчика.\n",
    "\n",
    "---\n",
    "\n",
    "### 6. **Отсутствие JIT-компиляции (в CPython)**\n",
    "   - В стандартной реализации Python (CPython) отсутствует **JIT-компиляция** (Just-In-Time компиляция), которая могла бы ускорить выполнение кода. Однако в других реализациях, таких как **PyPy**, JIT используется, что значительно повышает производительность.\n",
    "\n",
    "---\n",
    "\n",
    "### Как ускорить Python?\n",
    "   - Использовать альтернативные реализации Python, такие как **PyPy** (с JIT-компиляцией).\n",
    "   - Писать критичные к производительности части кода на C/C++ и интегрировать их в Python через **Cython** или **ctypes**.\n",
    "   - Использовать библиотеки, написанные на более быстрых языках (например, NumPy, Pandas, TensorFlow).\n",
    "   - Применять многопроцессорность вместо многопоточности для обхода ограничений GIL.\n",
    "\n",
    "Таким образом, Python медленный из-за своей архитектуры, но его преимущества в простоте и универсальности делают его одним из самых популярных языков программирования."
   ]
  },
  {
   "cell_type": "markdown",
   "id": "ae8d1898-9ab9-4e1e-a93d-8e165e9924a7",
   "metadata": {},
   "source": [
    "### Основные конструкции и базовые типы данных в Python\n",
    "\n",
    "Переменные и типы данных:\n",
    "- Числа (int, float, complex).\n",
    "- Строки (str).\n",
    "- Списки (list), кортежи (tuple), множества (set), словари (dict).\n",
    "\n",
    "Основные конструкции\n",
    "- Условные операторы (if, elif, else).\n",
    "- Циклы (for, while).\n",
    "- Функции и их создание (def).\n",
    "- Модули и импорт (import)."
   ]
  },
  {
   "cell_type": "code",
   "execution_count": 123,
   "id": "4cdfdf50-68bd-4cac-878f-0e8f4bc6e169",
   "metadata": {},
   "outputs": [
    {
     "data": {
      "text/plain": [
       "10"
      ]
     },
     "execution_count": 123,
     "metadata": {},
     "output_type": "execute_result"
    }
   ],
   "source": [
    "# Пример базовых типов и конструкций\n",
    "a = 10  # int\n",
    "b = 3.14e-7  # float\n",
    "c = \"Hello, Python!\"  # str неизменяемый\n",
    "d = [1, 2, 3, 4]  # list изменяемымый (mutable)\n",
    "e = {\"name\": \"Alice\", \"age\": 25}  # dict\n",
    "a"
   ]
  },
  {
   "cell_type": "code",
   "execution_count": 121,
   "id": "67d8c8cf-27a8-431f-82f1-bbbaff048938",
   "metadata": {},
   "outputs": [
    {
     "name": "stdout",
     "output_type": "stream",
     "text": [
      "a = 11 a1 = 11\n"
     ]
    }
   ],
   "source": [
    "# Имя переменной - это сама переменная!\n",
    "a1 = a\n",
    "a = 11\n",
    "print(f\"a = {a} a1 = {a1}\")\n",
    "# Внимание! Что будет, если запустить ячейку еще раз"
   ]
  },
  {
   "cell_type": "code",
   "execution_count": 125,
   "id": "a9e9646e-a8bc-4006-96d3-8eaf63ccc70c",
   "metadata": {},
   "outputs": [
    {
     "name": "stdout",
     "output_type": "stream",
     "text": [
      "d = [1, 22, 3, 4]\n",
      "d1 = [1, 22, 3, 4]\n"
     ]
    }
   ],
   "source": [
    "# Имя списка - это ссылка (указатель)! Типа как в С/C++, но неявно\n",
    "d1 = d\n",
    "d[1] = 22\n",
    "print(f\"d = {d}\")\n",
    "print(f\"d1 = {d1}\")"
   ]
  },
  {
   "cell_type": "markdown",
   "id": "58155c89-75b1-4d09-aa1d-3548d14fe264",
   "metadata": {},
   "source": [
    "## Простые управляющие конструкции"
   ]
  },
  {
   "cell_type": "code",
   "execution_count": 129,
   "id": "3ddecfba-08c3-4e0d-b304-ea40bc6b06f1",
   "metadata": {},
   "outputs": [
    {
     "name": "stdout",
     "output_type": "stream",
     "text": [
      "a больше 5\n"
     ]
    }
   ],
   "source": [
    "if a > 5:\n",
    "    print(\"a больше 5\")\n",
    "else:\n",
    "    print(\"a меньше или равно 5\")"
   ]
  },
  {
   "cell_type": "code",
   "execution_count": 131,
   "id": "0d14aeeb-5a9a-43f9-85e7-c7d8cc3c364f",
   "metadata": {},
   "outputs": [
    {
     "name": "stdout",
     "output_type": "stream",
     "text": [
      "0\n",
      "1\n",
      "2\n",
      "3\n",
      "4\n"
     ]
    }
   ],
   "source": [
    "# цикл, range\n",
    "for i in range(5):\n",
    "    print(i)"
   ]
  },
  {
   "cell_type": "code",
   "execution_count": 29,
   "id": "9f599126-bbd0-47ae-bc03-bd8fd34886f2",
   "metadata": {},
   "outputs": [
    {
     "name": "stdout",
     "output_type": "stream",
     "text": [
      "Hello, Alice!\n"
     ]
    }
   ],
   "source": [
    "# функции\n",
    "def greet(name):\n",
    "    return f\"Hello, {name}!\"\n",
    "\n",
    "print(greet(\"Alice\"))"
   ]
  },
  {
   "cell_type": "markdown",
   "id": "a19ff925-8597-4d43-afa2-47fe7e3ec0e4",
   "metadata": {},
   "source": [
    "## Подробнее про списки"
   ]
  },
  {
   "cell_type": "markdown",
   "id": "59286b75-3c49-4dc8-b335-15e182c9636e",
   "metadata": {},
   "source": [
    "### Создание"
   ]
  },
  {
   "cell_type": "code",
   "execution_count": 141,
   "id": "b620d6d2-6ae2-4018-9def-a76a1a50b5c2",
   "metadata": {},
   "outputs": [],
   "source": [
    "# Пустой список\n",
    "empty_list = []\n",
    "\n",
    "# Список с элементами\n",
    "fruits = [\"apple\", \"banana\", \"cherry\"]\n",
    "numbers = [1, 2, 3, 4, 5]\n",
    "\n",
    "# Список с элементами разных типов\n",
    "mixed_list = [1, \"hello\", 3.14, True]"
   ]
  },
  {
   "cell_type": "markdown",
   "id": "b0d21fde-98d1-4548-8942-5bf0051551bb",
   "metadata": {},
   "source": [
    "### Доступ к элементам списка"
   ]
  },
  {
   "cell_type": "code",
   "execution_count": 143,
   "id": "bf6c64f0-7da8-4bf8-b295-75f96771afb6",
   "metadata": {},
   "outputs": [
    {
     "name": "stdout",
     "output_type": "stream",
     "text": [
      "apple\n",
      "cherry\n",
      "['banana', 'cherry']\n",
      "['apple', 'banana']\n",
      "['banana', 'cherry']\n"
     ]
    }
   ],
   "source": [
    "fruits = [\"apple\", \"banana\", \"cherry\"]\n",
    "\n",
    "# Доступ по индексу\n",
    "print(fruits[0])  # apple\n",
    "print(fruits[-1]) # cherry (отрицательный индекс — с конца)\n",
    "\n",
    "# Срезы (slicing)\n",
    "print(fruits[1:3])  # ['banana', 'cherry']\n",
    "print(fruits[:2])   # ['apple', 'banana']\n",
    "print(fruits[1:])   # ['banana', 'cherry']"
   ]
  },
  {
   "cell_type": "markdown",
   "id": "dae325d9-af89-4631-a9e3-bbb8d7f0ac76",
   "metadata": {},
   "source": [
    "### Изменение элементов списка"
   ]
  },
  {
   "cell_type": "code",
   "execution_count": 145,
   "id": "57d32ea1-8988-43f6-b68a-415b90b4e2d6",
   "metadata": {},
   "outputs": [
    {
     "name": "stdout",
     "output_type": "stream",
     "text": [
      "['apple', 'blueberry', 'cherry']\n",
      "['apricot', 'blackberry', 'cherry']\n"
     ]
    }
   ],
   "source": [
    "fruits = [\"apple\", \"banana\", \"cherry\"]\n",
    "\n",
    "# Изменение элемента по индексу\n",
    "fruits[1] = \"blueberry\"\n",
    "print(fruits)  # ['apple', 'blueberry', 'cherry']\n",
    "\n",
    "# Изменение среза\n",
    "fruits[0:2] = [\"apricot\", \"blackberry\"]\n",
    "print(fruits)  # ['apricot', 'blackberry', 'cherry']"
   ]
  },
  {
   "cell_type": "markdown",
   "id": "00a83e0b-1776-4108-8075-50b788e15ebd",
   "metadata": {},
   "source": [
    "### Добавление элементов"
   ]
  },
  {
   "cell_type": "code",
   "execution_count": 38,
   "id": "55cad59c-3cbc-46a7-a6f5-684bac34b1c0",
   "metadata": {},
   "outputs": [
    {
     "name": "stdout",
     "output_type": "stream",
     "text": [
      "['apple', 'banana', 'cherry']\n",
      "['apple', 'blueberry', 'banana', 'cherry']\n",
      "['apple', 'blueberry', 'banana', 'cherry', 'orange', 'grape']\n"
     ]
    }
   ],
   "source": [
    "fruits = [\"apple\", \"banana\"]\n",
    "\n",
    "# Добавление элемента в конец\n",
    "fruits.append(\"cherry\")\n",
    "print(fruits)  # ['apple', 'banana', 'cherry']\n",
    "\n",
    "# Добавление элемента по индексу\n",
    "fruits.insert(1, \"blueberry\")\n",
    "print(fruits)  # ['apple', 'blueberry', 'banana', 'cherry']\n",
    "\n",
    "# Расширение списка другим списком\n",
    "fruits.extend([\"orange\", \"grape\"])\n",
    "print(fruits)  # ['apple', 'blueberry', 'banana', 'cherry', 'orange', 'grape']"
   ]
  },
  {
   "cell_type": "markdown",
   "id": "9743cc7e-d159-404a-b468-6881fcd22c9d",
   "metadata": {},
   "source": [
    "### Удаление элементов"
   ]
  },
  {
   "cell_type": "code",
   "execution_count": 40,
   "id": "b9cdbec5-9c30-49fa-ab5d-303afa06f9a9",
   "metadata": {},
   "outputs": [
    {
     "name": "stdout",
     "output_type": "stream",
     "text": [
      "['apple', 'cherry', 'banana']\n",
      "['apple', 'banana']\n",
      "banana\n",
      "['apple']\n",
      "[]\n"
     ]
    }
   ],
   "source": [
    "fruits = [\"apple\", \"banana\", \"cherry\", \"banana\"]\n",
    "\n",
    "# Удаление по значению (первое вхождение)\n",
    "fruits.remove(\"banana\")\n",
    "print(fruits)  # ['apple', 'cherry', 'banana']\n",
    "\n",
    "# Удаление по индексу\n",
    "del fruits[1]\n",
    "print(fruits)  # ['apple', 'banana']\n",
    "\n",
    "# Удаление и возврат последнего элемента\n",
    "last_fruit = fruits.pop()\n",
    "print(last_fruit)  # banana\n",
    "print(fruits)      # ['apple']\n",
    "\n",
    "# Очистка списка\n",
    "fruits.clear()\n",
    "print(fruits)  # []"
   ]
  },
  {
   "cell_type": "markdown",
   "id": "50fe3fc5-1b01-46da-8bd6-e0cd39a4c3bd",
   "metadata": {},
   "source": [
    "### Поиск и сортировка"
   ]
  },
  {
   "cell_type": "code",
   "execution_count": 147,
   "id": "cfa86108-1926-4a60-a09f-9d4732ba706c",
   "metadata": {},
   "outputs": [
    {
     "name": "stdout",
     "output_type": "stream",
     "text": [
      "1\n",
      "Apple is in the list!\n",
      "['apple', 'banana', 'banana', 'cherry']\n",
      "['cherry', 'banana', 'banana', 'apple']\n"
     ]
    }
   ],
   "source": [
    "fruits = [\"apple\", \"banana\", \"banana\", \"cherry\"]\n",
    "\n",
    "# Поиск индекса элемента\n",
    "index = fruits.index(\"banana\")\n",
    "print(index)  # 1\n",
    "\n",
    "# Проверка наличия элемента\n",
    "if \"apple\" in fruits:\n",
    "    print(\"Apple is in the list!\")\n",
    "\n",
    "# Сортировка списка\n",
    "fruits.sort()\n",
    "print(fruits)  # ['apple', 'banana', 'cherry']\n",
    "\n",
    "# Обратная сортировка\n",
    "fruits.sort(reverse=True)\n",
    "print(fruits)  # ['cherry', 'banana', 'apple']"
   ]
  },
  {
   "cell_type": "markdown",
   "id": "ea2fa22a-303d-4722-a794-95dd1dbdb2cf",
   "metadata": {},
   "source": [
    "### Копирование списка (выделяется новая память)"
   ]
  },
  {
   "cell_type": "code",
   "execution_count": 151,
   "id": "76692491-1e3e-4a57-94c5-a7fb6f35cf8e",
   "metadata": {},
   "outputs": [
    {
     "name": "stdout",
     "output_type": "stream",
     "text": [
      "['apple', 'banana', 'cherry']\n",
      "['apricot', 'banana', 'cherry']\n",
      "['banana', 'cherry']\n"
     ]
    }
   ],
   "source": [
    "fruits = [\"apple\", \"banana\", \"cherry\"]\n",
    "\n",
    "# Поверхностная копия\n",
    "fruits_copy = fruits.copy()\n",
    "fruits_copy[0] = \"apricot\"\n",
    "print(fruits)      # ['apple', 'banana', 'cherry']\n",
    "print(fruits_copy) # ['apricot', 'banana', 'cherry']\n",
    "\n",
    "# Копия через срез\n",
    "fruits_copy = fruits[1:]\n",
    "print(fruits_copy)"
   ]
  },
  {
   "cell_type": "markdown",
   "id": "ea2efe4b-4fcd-4554-9475-1f815938f97d",
   "metadata": {},
   "source": [
    "### Генерация списка"
   ]
  },
  {
   "cell_type": "code",
   "execution_count": 153,
   "id": "54593e6c-7074-41a8-8bd9-4676adadbed6",
   "metadata": {},
   "outputs": [
    {
     "name": "stdout",
     "output_type": "stream",
     "text": [
      "[0, 1, 4, 9, 16, 25, 36, 49, 64, 81]\n",
      "[0, 2, 4, 6, 8]\n"
     ]
    }
   ],
   "source": [
    "# Создание списка квадратов чисел\n",
    "squares = [x ** 2 for x in range(10)]\n",
    "print(squares)  # [0, 1, 4, 9, 16, 25, 36, 49, 64, 81]\n",
    "\n",
    "# Фильтрация списка\n",
    "even_numbers = [x for x in range(10) if x % 2 == 0]\n",
    "print(even_numbers)  # [0, 2, 4, 6, 8]"
   ]
  },
  {
   "cell_type": "markdown",
   "id": "ce1e3167-fa5f-45e4-bd9f-367331b6f0e9",
   "metadata": {},
   "source": [
    "### Итерация по списку"
   ]
  },
  {
   "cell_type": "code",
   "execution_count": 157,
   "id": "72556e03-ddd7-41df-bc9d-49a1cd2bdedb",
   "metadata": {},
   "outputs": [
    {
     "name": "stdout",
     "output_type": "stream",
     "text": [
      "apple\n",
      "banana\n",
      "cherry\n",
      "Index: 0, Fruit: apple\n",
      "Index: 1, Fruit: banana\n",
      "Index: 2, Fruit: cherry\n",
      "Index: 0, Fruit: apple\n",
      "Index: 1, Fruit: banana\n",
      "Index: 2, Fruit: cherry\n"
     ]
    }
   ],
   "source": [
    "fruits = [\"apple\", \"banana\", \"cherry\"]\n",
    "\n",
    "# Через цикл for\n",
    "for fruit in fruits:\n",
    "    print(fruit)\n",
    "\n",
    "# С индексом\n",
    "for index, fruit in enumerate(fruits):\n",
    "    print(f\"Index: {index}, Fruit: {fruit}\")\n",
    "\n",
    "for index in range(len(fruits)):\n",
    "    print(f\"Index: {index}, Fruit: {fruits[index]}\")"
   ]
  },
  {
   "cell_type": "markdown",
   "id": "1971459a-93bc-42cf-8312-131fbd0e661f",
   "metadata": {},
   "source": [
    "### Списки списков"
   ]
  },
  {
   "cell_type": "code",
   "execution_count": 159,
   "id": "50c1f398-b5d2-490e-8a8b-54d1add75c6e",
   "metadata": {},
   "outputs": [
    {
     "name": "stdout",
     "output_type": "stream",
     "text": [
      "6\n",
      "1 2 3 \n",
      "4 5 6 \n",
      "7 8 9 \n"
     ]
    }
   ],
   "source": [
    "matrix = [\n",
    "    [1, 2, 3],\n",
    "    [4, 5, 6],\n",
    "    [7, 8, 9]\n",
    "]\n",
    "\n",
    "# Доступ к элементам вложенного списка\n",
    "print(matrix[1][2])  # 6\n",
    "\n",
    "# Итерация по вложенному списку\n",
    "for row in matrix:\n",
    "    for element in row:\n",
    "        print(element, end=\" \")\n",
    "    print()"
   ]
  },
  {
   "cell_type": "markdown",
   "id": "2c3b792f-f921-4a12-be85-36cab80547e5",
   "metadata": {},
   "source": [
    "### Длина списка"
   ]
  },
  {
   "cell_type": "code",
   "execution_count": 163,
   "id": "17c2d29d-2ddc-40aa-a1d2-4e5b3082b5c4",
   "metadata": {},
   "outputs": [
    {
     "name": "stdout",
     "output_type": "stream",
     "text": [
      "4\n",
      "2\n",
      "['banana', 'cherry', 'banana', 'apple']\n"
     ]
    }
   ],
   "source": [
    "fruits = [\"apple\", \"banana\", \"cherry\", \"banana\"]\n",
    "\n",
    "# Длина списка\n",
    "print(len(fruits))  # 3\n",
    "\n",
    "# Подсчет количества элементов\n",
    "count = fruits.count(\"banana\")\n",
    "print(count)  # 1\n",
    "\n",
    "# Разворот списка\n",
    "fruits.reverse()\n",
    "print(fruits)  # ['cherry', 'banana', 'apple']"
   ]
  },
  {
   "cell_type": "markdown",
   "id": "ccd1f819-9587-4425-80d1-b839fd328d20",
   "metadata": {},
   "source": [
    "## Библиотека NumPy\n",
    "\n",
    "- Создание массивов (np.array).\n",
    "- Операции с массивами: индексация, срезы, математические операции.\n",
    "- Линейная алгебра с NumPy: скалярное произведение, транспонирование, обратные матрицы.\n",
    "- Генерация случайных чисел (np.random)."
   ]
  },
  {
   "cell_type": "code",
   "execution_count": 175,
   "id": "52025b93-e9e2-47c0-b469-e0481db47e58",
   "metadata": {},
   "outputs": [
    {
     "name": "stdout",
     "output_type": "stream",
     "text": [
      "[1 2 3 4 5]\n",
      "[ 1  4  9 16 25]\n",
      "[0.90814344 0.52502971 0.08301163 0.62712901 0.88670212]\n",
      "[[-2.   1. ]\n",
      " [ 1.5 -0.5]]\n"
     ]
    },
    {
     "data": {
      "text/plain": [
       "array([0.78836293, 0.50123872, 0.08291632, 0.5868225 , 0.7749918 ])"
      ]
     },
     "execution_count": 175,
     "metadata": {},
     "output_type": "execute_result"
    }
   ],
   "source": [
    "import numpy as np\n",
    "\n",
    "# Создание массива\n",
    "arr = np.array([1, 2, 3, 4, 5])\n",
    "print(arr)\n",
    "\n",
    "# Математические операции\n",
    "arr_squared = arr ** 2\n",
    "print(arr_squared)\n",
    "\n",
    "# Генерация случайных чисел\n",
    "random_arr = np.random.rand(5)\n",
    "print(random_arr)\n",
    "\n",
    "# Линейная алгебра\n",
    "matrix = np.array([[1, 2], [3, 4]])\n",
    "inverse_matrix = np.linalg.inv(matrix)\n",
    "print(inverse_matrix)\n",
    "np.sin(random_arr)"
   ]
  },
  {
   "cell_type": "markdown",
   "id": "e79aea55-590c-4524-ae5c-f9181252c18e",
   "metadata": {},
   "source": [
    "## Библиотека Matplotlib\n",
    "\n",
    "- Построение графиков: линейные, столбчатые, круговые диаграммы.\n",
    "- Настройка графиков: заголовки, метки осей, легенды.\n",
    "- Работа с несколькими графиками на одном полотне (subplots)."
   ]
  },
  {
   "cell_type": "code",
   "execution_count": 179,
   "id": "21853470-6448-4ffd-9211-99f94e20400b",
   "metadata": {},
   "outputs": [
    {
     "data": {
      "image/png": "[encoded data removed]",
      "text/plain": [
       "<Figure size 640x480 with 1 Axes>"
      ]
     },
     "metadata": {},
     "output_type": "display_data"
    },
    {
     "data": {
      "image/png": "[encoded data removed]",
      "text/plain": [
       "<Figure size 640x480 with 1 Axes>"
      ]
     },
     "metadata": {},
     "output_type": "display_data"
    }
   ],
   "source": [
    "import matplotlib.pyplot as plt\n",
    "\n",
    "# Линейный график\n",
    "x = np.linspace(0, 10, 100)\n",
    "y = np.sin(x)\n",
    "plt.plot(x, y)\n",
    "plt.title(\"График синуса\")\n",
    "plt.xlabel(r\"Ось X $|\\psi \\rangle$\")\n",
    "plt.ylabel(r\"Ось Y\")\n",
    "plt.show()\n",
    "\n",
    "# Столбчатая диаграмма\n",
    "categories = ['A', 'B', 'C', 'D']\n",
    "values = [10, 20, 15, 25]\n",
    "plt.bar(categories, values)\n",
    "plt.title(\"Столбчатая диаграмма\")\n",
    "plt.show()"
   ]
  },
  {
   "cell_type": "markdown",
   "id": "eefd0f60-3043-46b2-bc4e-45f99242f8c9",
   "metadata": {},
   "source": [
    "## Библиотека Pandas\n",
    "\n",
    "- Загрузка данных из файлов (CSV, Excel).\n",
    "- Работа с данными: фильтрация, сортировка, группировка.\n",
    "- Обработка пропущенных данных.\n",
    "\n",
    "Визуализация данных с помощью Pandas и Matplotlib."
   ]
  },
  {
   "cell_type": "code",
   "execution_count": 58,
   "id": "f74f9dfe-6868-4761-92be-d8af06637313",
   "metadata": {},
   "outputs": [
    {
     "name": "stdout",
     "output_type": "stream",
     "text": [
      "      Name  Age         City\n",
      "0    Alice   25     New York\n",
      "1      Bob   30  Los Angeles\n",
      "2  Charlie   35      Chicago\n"
     ]
    }
   ],
   "source": [
    "import pandas as pd\n",
    "\n",
    "# Создание DataFrame\n",
    "data = {\n",
    "    'Name': ['Alice', 'Bob', 'Charlie'],\n",
    "    'Age': [25, 30, 35],\n",
    "    'City': ['New York', 'Los Angeles', 'Chicago']\n",
    "}\n",
    "df = pd.DataFrame(data)\n",
    "print(df)\n",
    "\n",
    "# Сохранение DataFrame в файл\n",
    "df.to_csv('output.csv', index=False)"
   ]
  },
  {
   "cell_type": "code",
   "execution_count": 59,
   "id": "37a92409-2bc2-4978-8557-2d35da97b46f",
   "metadata": {},
   "outputs": [],
   "source": [
    "# Загрузка данных из CSV\n",
    "df = pd.read_csv('output.csv')\n",
    "\n"
   ]
  },
  {
   "cell_type": "code",
   "execution_count": 60,
   "id": "962bf6d7-6cff-4b6c-88d3-0e8a6fda61fd",
   "metadata": {},
   "outputs": [
    {
     "name": "stdout",
     "output_type": "stream",
     "text": [
      "      Name  Age     City\n",
      "2  Charlie   35  Chicago\n",
      "\n",
      "Сортировка по возрасту:\n",
      "      Name  Age         City\n",
      "2  Charlie   35      Chicago\n",
      "1      Bob   30  Los Angeles\n",
      "0    Alice   25     New York\n"
     ]
    }
   ],
   "source": [
    "# Фильтрация данных\n",
    "filtered_df = df[df['Age'] > 30]\n",
    "print(filtered_df)\n",
    "\n",
    "# Сортировка\n",
    "sorted_df = df.sort_values(by='Age', ascending=False)\n",
    "print(\"\\nСортировка по возрасту:\")\n",
    "print(sorted_df)"
   ]
  },
  {
   "cell_type": "code",
   "execution_count": 61,
   "id": "8e56fec1-2196-45af-8866-b3c3e71c8167",
   "metadata": {},
   "outputs": [
    {
     "name": "stdout",
     "output_type": "stream",
     "text": [
      "\n",
      "Сумма продаж по городам:\n",
      "Город\n",
      "Казань         450\n",
      "Москва         450\n",
      "Новосибирск     80\n",
      "Name: Продажи, dtype: int64\n"
     ]
    }
   ],
   "source": [
    "# Группировка и агрегация данных\n",
    "sales_data = {\n",
    "    'Город': ['Москва', 'Казань', 'Москва', 'Новосибирск', 'Казань'],\n",
    "    'Продажи': [150, 200, 300, 80, 250]\n",
    "}\n",
    "\n",
    "sales_df = pd.DataFrame(sales_data)\n",
    "\n",
    "# Группировка по городу и сумма продаж\n",
    "grouped = sales_df.groupby('Город')['Продажи'].sum()\n",
    "print(\"\\nСумма продаж по городам:\")\n",
    "print(grouped)"
   ]
  },
  {
   "cell_type": "code",
   "execution_count": 92,
   "id": "b78b2018-c612-4da4-a33e-71de71089d76",
   "metadata": {},
   "outputs": [
    {
     "name": "stdout",
     "output_type": "stream",
     "text": [
      "\n",
      "Заполнение пропусков:\n",
      "     A    B\n",
      "0  1.0  5.0\n",
      "1  2.0  0.0\n",
      "2  0.0  7.0\n",
      "3  4.0  8.0\n",
      "Исходный DataFrame:\n",
      "     A    B     C\n",
      "0  1.0  5.0   NaN\n",
      "1  2.0  NaN  10.0\n",
      "2  NaN  7.0  11.0\n",
      "3  4.0  8.0  12.0\n",
      "\n",
      "DataFrame после удаления строк с пропусками:\n",
      "     A    B     C\n",
      "3  4.0  8.0  12.0\n"
     ]
    }
   ],
   "source": [
    "# DataFrame с пропущенными значениями\n",
    "data_with_nan = {\n",
    "    'A': [1, 2, None, 4],\n",
    "    'B': [5, None, 7, 8]\n",
    "}\n",
    "\n",
    "nan_df = pd.DataFrame(data_with_nan)\n",
    "\n",
    "# Заполнение пропусков нулями\n",
    "filled_df = nan_df.fillna(0)\n",
    "print(\"\\nЗаполнение пропусков:\")\n",
    "print(filled_df)\n",
    "\n",
    "# Удаление пропущенных значений\n",
    "# Создаем DataFrame с пропущенными значениями\n",
    "data = {\n",
    "    'A': [1, 2, None, 4],\n",
    "    'B': [5, None, 7, 8],\n",
    "    'C': [None, 10, 11, 12]\n",
    "}\n",
    "\n",
    "df = pd.DataFrame(data)\n",
    "print(\"Исходный DataFrame:\")\n",
    "print(df)\n",
    "\n",
    "# Удаляем строки с пропущенными значениями\n",
    "cleaned_df = df.dropna()\n",
    "print(\"\\nDataFrame после удаления строк с пропусками:\")\n",
    "print(cleaned_df)"
   ]
  },
  {
   "cell_type": "code",
   "execution_count": 63,
   "id": "1c953a6b-f4d7-4400-843c-256a71838904",
   "metadata": {},
   "outputs": [
    {
     "data": {
      "image/png": "[encoded data removed]",
      "text/plain": [
       "<Figure size 640x480 with 1 Axes>"
      ]
     },
     "metadata": {},
     "output_type": "display_data"
    }
   ],
   "source": [
    "import matplotlib.pyplot as plt\n",
    "\n",
    "# Пример построения графика продаж\n",
    "sales_df.plot(kind='bar', x='Город', y='Продажи', title='Продажи по городам')\n",
    "plt.show()"
   ]
  },
  {
   "cell_type": "code",
   "execution_count": 64,
   "id": "b6429598-870f-4fe7-aa9b-7cc2acd05429",
   "metadata": {},
   "outputs": [
    {
     "data": {
      "image/png": "[encoded data removed]",
      "text/plain": [
       "<Figure size 640x480 with 1 Axes>"
      ]
     },
     "metadata": {},
     "output_type": "display_data"
    }
   ],
   "source": [
    "import numpy as np\n",
    "import pandas as pd\n",
    "import matplotlib.pyplot as plt\n",
    "\n",
    "# Создание данных\n",
    "data = {\n",
    "    'x': np.linspace(0, 10, 100),\n",
    "    'y': np.sin(np.linspace(0, 10, 100))\n",
    "}\n",
    "df = pd.DataFrame(data)\n",
    "\n",
    "# Визуализация\n",
    "plt.plot(df['x'], df['y'])\n",
    "plt.title(\"График синуса с использованием Pandas и Matplotlib\")\n",
    "plt.xlabel(\"Ось X\")\n",
    "plt.ylabel(\"Ось Y\")\n",
    "plt.show()"
   ]
  },
  {
   "cell_type": "markdown",
   "id": "782a8110-3f4c-40db-8137-ea468c65191a",
   "metadata": {},
   "source": [
    "Заданиу:\n",
    "\n",
    "1. Создать пример DataFrame с пропущенными данными (любой недлинный)\n",
    "2. Записать в CSV-файл\n",
    "3. Загрузить данные из CSV-файла\n",
    "4. Провести очистку данных (удаление пропущенных значений)\n",
    "5. Построить график зависимости одной переменной от другой\n"
   ]
  },
  {
   "cell_type": "code",
   "execution_count": null,
   "id": "53f6c42c-d0d3-4051-a5ac-9d99ef1b1354",
   "metadata": {},
   "outputs": [],
   "source": []
  }
 ],
 "metadata": {
  "kernelspec": {
   "display_name": "Python [conda env:base] *",
   "language": "python",
   "name": "conda-base-py"
  },
  "language_info": {
   "codemirror_mode": {
    "name": "ipython",
    "version": 3
   },
   "file_extension": ".py",
   "mimetype": "text/x-python",
   "name": "python",
   "nbconvert_exporter": "python",
   "pygments_lexer": "ipython3",
   "version": "3.12.7"
  }
 },
 "nbformat": 4,
 "nbformat_minor": 5
}
