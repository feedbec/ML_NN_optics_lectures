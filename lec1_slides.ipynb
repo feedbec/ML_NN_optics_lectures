{
 "cells": [
  {
   "cell_type": "markdown",
   "metadata": {
    "slideshow": {
     "slide_type": "slide"
    }
   },
   "source": [
    " # Лекция 1. Введение. Основные подходы. Мотивация"
   ]
  },
  {
   "cell_type": "markdown",
   "metadata": {
    "editable": true,
    "slideshow": {
     "slide_type": "slide"
    },
    "tags": []
   },
   "source": [
    "## Схема курса\n",
    "\n",
    "- Основные понятия и концепции ИИ и МО, примеры использования в научных исследованиях\n",
    "- Знакомство с инструментарием: Python, Numpy, Pandas, Matplotlib/Seaborn  \n",
    "- Задачи классификации (Логистическая регрессия, SVM, деревья решений, наивный байес) с помощью инструментов Scikit-learn\n",
    "- Задачи регрессии (линейная регрессия, деревья решений) с помощью инструментов Scikit-learn\n",
    "- Глубокое обучение. Многослойный перцептрон. Теория и реализация с помощью Tensorflow\n",
    "- Сверточные сети с Tensorflow на примере анализа изображений\n",
    "- Физически-информированные нейронные сети (PINN) для моделирования физических процессов"
   ]
  },
  {
   "cell_type": "markdown",
   "metadata": {
    "slideshow": {
     "slide_type": "slide"
    }
   },
   "source": [
    "## Очень широкий взгляд на ИИ и МО\n",
    "\n",
    "![all in one](./lecture1/sl1.png)\n",
    "\n",
    "Наивный критерий: **Алгоритм становится лучше, если добавить больше данных**"
   ]
  },
  {
   "cell_type": "markdown",
   "metadata": {
    "slideshow": {
     "slide_type": "slide"
    }
   },
   "source": [
    "## Обучение с учителем\n",
    "\n",
    "![supervised](./lecture1/sl2.png)"
   ]
  },
  {
   "cell_type": "markdown",
   "metadata": {
    "slideshow": {
     "slide_type": "slide"
    }
   },
   "source": [
    "## Без учителя\n",
    "\n",
    "![unsupervised](./lecture1/sl3.png)"
   ]
  },
  {
   "cell_type": "markdown",
   "metadata": {
    "slideshow": {
     "slide_type": "slide"
    }
   },
   "source": [
    "## С подкреплением \n",
    "\n",
    "![reinforce](./lecture1/sl4.png)"
   ]
  },
  {
   "cell_type": "markdown",
   "metadata": {
    "editable": true,
    "slideshow": {
     "slide_type": "slide"
    },
    "tags": []
   },
   "source": [
    "## Глубокое обучение. Нейронные сети\n",
    "\n",
    "![nn](./lecture1/sl5.png)"
   ]
  },
  {
   "cell_type": "markdown",
   "metadata": {
    "editable": true,
    "slideshow": {
     "slide_type": "slide"
    },
    "tags": []
   },
   "source": [
    "## Чем поможет науке\n",
    "\n",
    "- **Многомодовые волокна** [N. Borhani, E. Kakkava, C. Moser and D. Psaltis, \"Learning to see through multimode fibers\", Optica, vol. 5, pp. 960-966, Aug. 2018.]\n",
    "- **Нано-фотоника** [D. Liu, Y. Tan, E. Khoram, et al., “Training deep neural networks for the inverse design of nanophotonic structures,” ACS Photon. 5, 1365–1369 (2018); K. Yadav, S. Bidnyk, and A. Balakrishnan, “Machine learning for design optimizations and prediction of optical chip performance,” Proc. SPIE 12438, 124380E (2023)]\n",
    "\n",
    "![photonic_design](./lecture1/photonic.png)"
   ]
  },
  {
   "cell_type": "markdown",
   "metadata": {
    "editable": true,
    "slideshow": {
     "slide_type": "slide"
    },
    "tags": []
   },
   "source": [
    "- **Плазмонная физика** [J. Baxter, A. C. Lesina, J.-M. Guay, A. Weck, P. Berini and L. Ramunno, \"Plasmonic colours predicted by deep learning\", Sci. Rep., vol. 9, no. 1, pp. 1-9, Dec. 2019.] \n",
    "- **Метаматериалы** [J. Jiang, D. Sell, S. Hoyer, J. Hickey, J. Yang and J. A. Fan, \"Free-form diffractive metagrating design based on generative adversarial networks\", ACS Nano, vol. 13, no. 8, pp. 8872-8878, Aug. 2019; T. Asano and S. Noda, “Optimization of photonic crystal nanocavities based on deep learning,” Opt. Express 26, 32704–32717 (2018)]\n",
    "- **Дизайн метоповерхностей** [C. C. Nadell, B. Huang, J. M. Malof and W. J. Padilla, \"Deep learning for accelerated all-dielectric metasurface design\", Opt. Exp., vol. 27, no. 20, pp. 27523-27535, Sep. 2019.] \n"
   ]
  },
  {
   "cell_type": "markdown",
   "metadata": {
    "editable": true,
    "slideshow": {
     "slide_type": "slide"
    },
    "tags": []
   },
   "source": [
    "- **Оптическая связь** [B. Karanov et al., \"End-to-end deep learning of optical fiber communications\", J. Lightw. Technol., vol. 36, no. 20, pp. 4843-4855, Oct. 2018;  X. Wang, T. Wu, C. Dong, et al., “Integrating deep learning to achieve phase compensation for free-space orbital-angular-momentum-encoded quantum key distribution under atmospheric turbulence,” Photon. Res. 9, B9–B17 (2021)]; [Rahmani, B., Loterie, D., Kakkava, E. et al. Actor neural networks for the robust control of partially measured nonlinear systems showcased for image propagation through diffuse media. Nat Mach Intell 2, 403–410 (2020). https://doi.org/10.1038/s42256-020-0199-9]\n",
    "- **Решение обратных** задач дизайна оптических систем [ T. Ma, H. Wang, and L. J. Guo, “OptoGPT: a foundation model for inverse design in optical multilayer thin film structures,” arXiv (2023).]\n",
    "\n",
    "![fiber_diff](./lecture1/fiber.png)"
   ]
  },
  {
   "cell_type": "markdown",
   "metadata": {
    "editable": true,
    "slideshow": {
     "slide_type": "slide"
    },
    "tags": []
   },
   "source": [
    "- **Атомная физика, квантовая химия** [Behler, J. & Parrinello, M. Generalized neural-network representation of high-dimensional potential-energy surfaces. Phys. Rev. Lett. 98, 146401 (2007); Bartok, A. P., Kermore, J., Bernstein, N. & Csanyi, G. Machine learning a general purpose interatomic potential for silicon. Phys. Rev. X 8, 041048 (2018)]\n",
    "- **BEC** [Using Artificial Neural Networks to Solve the Gross–Pitaevskii Equation October 2024Axioms 13(10):711 DOI:10.3390/axioms13100711; Solution of inverse problem for Gross-Pitaevskii equation with artificial neural networks July 2023 Laser Physics Letters 20(9):095501 DOI:10.1088/1612-202X/ace70c]\n",
    "\n",
    "![fiber_diff](./lecture1/gpe.png)"
   ]
  },
  {
   "cell_type": "markdown",
   "metadata": {
    "editable": true,
    "slideshow": {
     "slide_type": "slide"
    },
    "tags": []
   },
   "source": [
    "## PINN. Альтернатива численному моделированию?\n",
    "[Pun, G.P.P., Batra, R., Ramprasad, R. et al. Physically informed artificial neural networks for atomistic modeling of materials. Nat Commun 10, 2339 (2019). https://doi.org/10.1038/s41467-019-10343-5]\n",
    "\n",
    "![nn](./lecture1/sl6.png)"
   ]
  },
  {
   "cell_type": "markdown",
   "metadata": {
    "editable": true,
    "slideshow": {
     "slide_type": "slide"
    },
    "tags": []
   },
   "source": [
    "## Инструменты для аналази данных и построения простых моделей\n",
    "\n",
    "Python со множеством пакетов\n",
    "- NumPy, эффективные манипуляции с массивами чисел\n",
    "- Matplotlib, построение графиков\n",
    "- Pandas, работа с табличными данными\n",
    "- Scikit learn, широкий выбор инструментов для машинного обучения\n",
    "- **Все это есть в Anaconda** https://www.anaconda.com/download\n",
    "- TensorFlow, Keras - инструменты для нейронных сетей\n",
    "\n",
    "![logo](./lecture1/anaconda_logo.png)\n"
   ]
  }
 ],
 "metadata": {
  "celltoolbar": "Слайд-шоу",
  "kernelspec": {
   "display_name": "Python [conda env:base] *",
   "language": "python",
   "name": "conda-base-py"
  },
  "language_info": {
   "codemirror_mode": {
    "name": "ipython",
    "version": 3
   },
   "file_extension": ".py",
   "mimetype": "text/x-python",
   "name": "python",
   "nbconvert_exporter": "python",
   "pygments_lexer": "ipython3",
   "version": "3.12.7"
  }
 },
 "nbformat": 4,
 "nbformat_minor": 4
}
