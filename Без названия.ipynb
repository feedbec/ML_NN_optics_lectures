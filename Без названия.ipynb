{
 "cells": [
  {
   "cell_type": "markdown",
   "metadata": {
    "slideshow": {
     "slide_type": "slide"
    }
   },
   "source": [
    " # Лекция 1. Введение. Основные подходы. Мотивация"
   ]
  },
  {
   "cell_type": "markdown",
   "metadata": {
    "slideshow": {
     "slide_type": "slide"
    }
   },
   "source": [
    "Схема курса\n",
    "\n",
    "- Основные понятия и концепции ИИ и МО, примеры использования в научных исследованиях\n",
    "- Знакомство с инструментарием: Python, Numpy, Pandas, Matplotlib/Seaborn  \n",
    "- Задачи классификации (Логистическая регрессия, SVM, деревья решений) с помощью инструментов Scikit-learn\n",
    "- Задачи регрессии (линейная регрессия, деревья решений, байесовская регрессия) с помощью инструментов Scikit-learn\n",
    "- Глубокое обучение. Многослойный перцептрон. Теория и реализация с помощью Tensorflow\n",
    "- "
   ]
  },
  {
   "cell_type": "markdown",
   "metadata": {
    "slideshow": {
     "slide_type": "slide"
    }
   },
   "source": [
    "## Очень широкий взгляд на ИИ и МО\n",
    "\n",
    "![all in one](./lecture1/sl1.png)\n",
    "\n",
    "Наивный критерий: **Алгоритм становится лучше, если добавить больше данных**"
   ]
  },
  {
   "cell_type": "markdown",
   "metadata": {
    "slideshow": {
     "slide_type": "slide"
    }
   },
   "source": [
    "## Обучение с учителем\n",
    "\n",
    "![supervised](./lecture1/sl2.png)"
   ]
  },
  {
   "cell_type": "markdown",
   "metadata": {
    "slideshow": {
     "slide_type": "slide"
    }
   },
   "source": [
    "## Чем поможет науке\n",
    "\n",
    "- Многомодовые волокна [N. Borhani, E. Kakkava, C. Moser and D. Psaltis, \"Learning to see through multimode fibers\", Optica, vol. 5, pp. 960-966, Aug. 2018.]\n",
    "- Плазмонная физика [J. Baxter, A. C. Lesina, J.-M. Guay, A. Weck, P. Berini and L. Ramunno, \"Plasmonic colours predicted by deep learning\", Sci. Rep., vol. 9, no. 1, pp. 1-9, Dec. 2019.] \n",
    "- Нано-фотоника [D. Liu, Y. Tan, E. Khoram, et al., “Training deep neural networks for the inverse design of nanophotonic structures,” ACS Photon. 5, 1365–1369 (2018); K. Yadav, S. Bidnyk, and A. Balakrishnan, “Machine learning for design optimizations and prediction of optical chip performance,” Proc. SPIE 12438, 124380E (2023)]\n",
    "- Метаматериалы [J. Jiang, D. Sell, S. Hoyer, J. Hickey, J. Yang and J. A. Fan, \"Free-form diffractive metagrating design based on generative adversarial networks\", ACS Nano, vol. 13, no. 8, pp. 8872-8878, Aug. 2019; T. Asano and S. Noda, “Optimization of photonic crystal nanocavities based on deep learning,” Opt. Express 26, 32704–32717 (2018)]\n",
    "- Дизайн метоповерхностей [C. C. Nadell, B. Huang, J. M. Malof and W. J. Padilla, \"Deep learning for accelerated all-dielectric metasurface design\", Opt. Exp., vol. 27, no. 20, pp. 27523-27535, Sep. 2019.] \n",
    "- Оптическая связь [B. Karanov et al., \"End-to-end deep learning of optical fiber communications\", J. Lightw. Technol., vol. 36, no. 20, pp. 4843-4855, Oct. 2018;  X. Wang, T. Wu, C. Dong, et al., “Integrating deep learning to achieve phase compensation for free-space orbital-angular-momentum-encoded quantum key distribution under atmospheric turbulence,” Photon. Res. 9, B9–B17 (2021). ]\n",
    "- [ T. Ma, H. Wang, and L. J. Guo, “OptoGPT: a foundation model for inverse design in optical multilayer thin film structures,” arXiv (2023).]\n",
    "- Атомная физика, квантовая химия [Behler, J. & Parrinello, M. Generalized neural-network representation of high-dimensional potential-energy surfaces. Phys. Rev. Lett. 98, 146401 (2007); Bartok, A. P., Kermore, J., Bernstein, N. & Csanyi, G. Machine learning a general purpose interatomic potential for silicon. Phys. Rev. X 8, 041048 (2018)]\n",
    "- BEC "
   ]
  },
  {
   "cell_type": "markdown",
   "metadata": {
    "slideshow": {
     "slide_type": "slide"
    }
   },
   "source": [
    "## Без учителя\n",
    "\n",
    "![unsupervised](./lecture1/sl3.png)"
   ]
  },
  {
   "cell_type": "markdown",
   "metadata": {
    "slideshow": {
     "slide_type": "slide"
    }
   },
   "source": [
    "## С подкреплением \n",
    "\n",
    "![reinforce](./lecture1/sl4.png)"
   ]
  },
  {
   "cell_type": "markdown",
   "metadata": {},
   "source": [
    "## Глубокое обучение. Нейронные сети\n",
    "\n",
    "![nn](./lecture1/sl5.png)"
   ]
  },
  {
   "cell_type": "markdown",
   "metadata": {},
   "source": [
    "## PINN. Альтернатива численному моделированию?\n",
    "\n",
    "![nn](./lecture1/sl6.png)"
   ]
  },
  {
   "cell_type": "markdown",
   "metadata": {},
   "source": [
    "Pun, G.P.P., Batra, R., Ramprasad, R. et al. Physically informed artificial neural networks for atomistic modeling of materials. Nat Commun 10, 2339 (2019). https://doi.org/10.1038/s41467-019-10343-5"
   ]
  },
  {
   "cell_type": "markdown",
   "metadata": {},
   "source": [
    "## Инструменты для аналази данных и построения простых моделей\n",
    "\n"
   ]
  }
 ],
 "metadata": {
  "celltoolbar": "Слайд-шоу",
  "kernelspec": {
   "display_name": "Python 3",
   "language": "python",
   "name": "python3"
  },
  "language_info": {
   "codemirror_mode": {
    "name": "ipython",
    "version": 3
   },
   "file_extension": ".py",
   "mimetype": "text/x-python",
   "name": "python",
   "nbconvert_exporter": "python",
   "pygments_lexer": "ipython3",
   "version": "3.8.5"
  }
 },
 "nbformat": 4,
 "nbformat_minor": 4
}
