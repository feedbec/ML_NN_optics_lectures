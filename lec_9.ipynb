{
 "cells": [
  {
   "cell_type": "markdown",
   "id": "d552377d-5779-404e-9f90-d2fc0ad14417",
   "metadata": {},
   "source": [
    "## Физически информированные нейронные сети\n",
    "\n",
    "- это тип нейронных сетей, разработанный для решения задач, связанных с дифференциальными уравнениями (обыкновенными и в частных производных), а также для моделирования физических процессов.\n"
   ]
  },
  {
   "cell_type": "markdown",
   "id": "f0fc8b80-cf3b-447c-9528-d87db6026c0f",
   "metadata": {},
   "source": [
    "### **Основная идея PINN**  \n",
    "Обычные нейронные сети обучаются на данных, но не учитывают фундаментальные физические законы. PINN же включают физические уравнения (например, уравнение теплопроводности или волновое уравнения) прямо в процесс обучения, что позволяет им:  \n",
    "1. Требовать **меньше данных** (или вообще никаких) для обучения.  \n",
    "2. Давать **физически осмысленные** предсказания.  \n",
    "3. Решать **обратные задачи**.  \n",
    "\n",
    "### **Как работают PINN?**  \n",
    "\n",
    "![net](./lecture9/pinn_net.png)\n",
    "\n",
    "1. **Архитектура**:  \n",
    "   - Обычно это полносвязная нейронная сеть (MLP), которая принимает на вход координаты (например, $x$, $t$) и выдает решение $u(x, t)$.  \n",
    "   - Например, для уравнения теплопроводности:  \n",
    "     $$\n",
    "     \\frac{\\partial u}{\\partial t} = \\alpha \\frac{\\partial^2 u}{\\partial x^2}\n",
    "     $$\n",
    "     сеть обучается предсказывать $u(x, t)$, удовлетворяющее этому уравнению.  \n",
    "\n",
    "2. **Функция потерь (Loss function)**:  \n",
    "   - Состоит из двух частей:  \n",
    "     - **Data loss** (потери по данным) — сравнение предсказаний с имеющимися экспериментальными данными.  \n",
    "     - **Physics loss** (физические потери) — штраф за нарушение уравнений.  \n",
    "   - Например, для уравнения теплопроводности:  \n",
    "     $$\n",
    "     \\mathcal{L} = \\mathcal{L}_{data} + \\lambda \\mathcal{L}_{physics}\n",
    "     $$\n",
    "     где:  \n",
    "     $$\n",
    "     \\mathcal{L}_{physics} = \\left\\| \\frac{\\partial u}{\\partial t} - \\alpha \\frac{\\partial^2 u}{\\partial x^2} \\right\\|^2\n",
    "     $$\n",
    "     (норма невязки уравнения).  \n",
    "\n",
    "3. **Автоматическое дифференцирование (Autograd)**:  \n",
    "   - Для вычисления производных $\\frac{\\partial u}{\\partial t}$ и $\\frac{\\partial^2 u}{\\partial x^2}$ используется автоматическое дифференцирование (через backpropagation), что позволяет точно учитывать физику.  \n",
    "\n",
    "4. **Обучение**:  \n",
    "   - Сеть обучается методом градиентного спуска (например, Adam), минимизируя общий loss.  \n",
    "\n",
    "### **Недостатки**  \n",
    "❌ **Вычислительная сложность** — расчет производных может быть затратным.  \n",
    "❌ **Чувствительность к гиперпараметрам** — баланс между $\\mathcal{L}_{data}$ и $\\mathcal{L}_{physics}$ требует настройки.  "
   ]
  },
  {
   "cell_type": "markdown",
   "id": "7ef9046c-44ff-4cb8-9fcc-7c59b4b29b2a",
   "metadata": {},
   "source": [
    "## Использование PINN для решения оптических задач \n",
    "- Нелинейное уравнение Шредингера\n",
    "\n",
    "**Physics-informed Neural Network for Nonlinear Dynamics in Fiber Optics**\n",
    "Xiaotian Jiang, Danshi Wang, Qirui Fan, Min Zhang, Chao Lu, Alan Pak Tao Lau\n",
    "physics > arXiv:2109.00526\n",
    "\n",
    "- Обратные задачи нино-оптики и оптики метаматероалов\n",
    "  \n",
    "** Physics-informed neural networks for inverse problems in nano-optics and metamaterials**\n",
    "Optics Express 202028(8):11618-11633\n",
    "DOI:10.1364/OE.384875\n",
    "![meta](./lecture9/pinn_meta.png)\n",
    "\n",
    "- Много информации по PINN\n",
    "\n",
    "https://github.com/idrl-lab/PINNpapers"
   ]
  },
  {
   "cell_type": "markdown",
   "id": "676a3474-2313-4ac9-810a-53133c456d1f",
   "metadata": {},
   "source": [
    "Для примера рассмотрим задачу с 1-м 2-х уровневым атомом в одномодовом резонаторе. В представлении взаимодействи Гамильтониан этой системы выглядит так\n",
    "$$\n",
    "V = g\\hbar (a^\\dagger \\sigma_{-}e^{-i\\Delta t} + a\\sigma_{+}e^{i\\Delta t})\n",
    "$$\n",
    "где $g$ - константа взаимодействия атома и поля резонатора, $\\Delta$ - отстройка частоты резонатора от атомного перехода.\n",
    "\n",
    "Ограничимся максимум одним фотоном в резонаторе и представим состояние системы в виде\n",
    "$$\n",
    "|\\psi \\rangle = c_{a1} |a, 1\\rangle + c_{b0} |b, 0\\rangle\n",
    "$$\n",
    "\n",
    "Тогда уранение Шредингера сведется к системе\n",
    "$$\n",
    "\\frac{dc_{a1}}{dt} = -i g c_{b0} \\exp (-i\\Delta t)\n",
    "$$\n",
    "$$\n",
    "\\frac{dc_{b0}}{dt} = -i g c_{a1} \\exp (i\\Delta t)\n",
    "$$"
   ]
  },
  {
   "cell_type": "code",
   "execution_count": 5,
   "id": "00323ca1-ba86-4c65-b014-fa93722296d3",
   "metadata": {},
   "outputs": [],
   "source": [
    "import tensorflow as tf\n",
    "import numpy as np\n",
    "import matplotlib.pyplot as plt\n",
    "\n",
    "# Параметры задачи\n",
    "gamma = 1.0 # Константа связи\n",
    "Delta = 1.0 # отстройка резонатор от перехода\n",
    "epochs = 10000  # Увеличим количество эпох\n",
    "n_samples = 5000  # Увеличим число точек\n",
    "\n",
    "# Генерация данных как тензоров TensorFlow\n",
    "t_initial = tf.constant([[0.0]], dtype=tf.float32)  # 2D тензор для начального условия\n",
    "t_domain = tf.reshape(tf.linspace(0.0, 2*np.pi, n_samples), (-1, 1))  # Коллокационные точки"
   ]
  },
  {
   "cell_type": "code",
   "execution_count": 7,
   "id": "26834001-3769-40e3-bf0c-293163396bde",
   "metadata": {},
   "outputs": [
    {
     "name": "stderr",
     "output_type": "stream",
     "text": [
      "C:\\Users\\denis\\anaconda3\\Lib\\site-packages\\keras\\src\\layers\\core\\dense.py:87: UserWarning: Do not pass an `input_shape`/`input_dim` argument to a layer. When using Sequential models, prefer using an `Input(shape)` object as the first layer in the model instead.\n",
      "  super().__init__(activity_regularizer=activity_regularizer, **kwargs)\n"
     ]
    }
   ],
   "source": [
    "# Архитектура сети\n",
    "model = tf.keras.Sequential([\n",
    "    tf.keras.layers.Dense(64, activation='tanh', input_shape=(1,), kernel_initializer='random_normal'),\n",
    "    tf.keras.layers.Dense(64, activation='tanh', kernel_initializer='random_normal'),\n",
    "    tf.keras.layers.Dense(64, activation='tanh', kernel_initializer='random_normal'),\n",
    "    tf.keras.layers.Dense(4, kernel_initializer='random_normal')\n",
    "])\n",
    "\n",
    "optimizer = tf.keras.optimizers.Adam(learning_rate=0.0001)"
   ]
  },
  {
   "cell_type": "code",
   "execution_count": 9,
   "id": "b08f7147-5fc0-4bd3-9172-4aab619bd204",
   "metadata": {},
   "outputs": [
    {
     "data": {
      "text/html": [
       "<pre style=\"white-space:pre;overflow-x:auto;line-height:normal;font-family:Menlo,'DejaVu Sans Mono',consolas,'Courier New',monospace\"><span style=\"font-weight: bold\">Model: \"sequential\"</span>\n",
       "</pre>\n"
      ],
      "text/plain": [
       "\u001b[1mModel: \"sequential\"\u001b[0m\n"
      ]
     },
     "metadata": {},
     "output_type": "display_data"
    },
    {
     "data": {
      "text/html": [
       "<pre style=\"white-space:pre;overflow-x:auto;line-height:normal;font-family:Menlo,'DejaVu Sans Mono',consolas,'Courier New',monospace\">┏━━━━━━━━━━━━━━━━━━━━━━━━━━━━━━━━━━━━━━┳━━━━━━━━━━━━━━━━━━━━━━━━━━━━━┳━━━━━━━━━━━━━━━━━┓\n",
       "┃<span style=\"font-weight: bold\"> Layer (type)                         </span>┃<span style=\"font-weight: bold\"> Output Shape                </span>┃<span style=\"font-weight: bold\">         Param # </span>┃\n",
       "┡━━━━━━━━━━━━━━━━━━━━━━━━━━━━━━━━━━━━━━╇━━━━━━━━━━━━━━━━━━━━━━━━━━━━━╇━━━━━━━━━━━━━━━━━┩\n",
       "│ dense (<span style=\"color: #0087ff; text-decoration-color: #0087ff\">Dense</span>)                        │ (<span style=\"color: #00d7ff; text-decoration-color: #00d7ff\">None</span>, <span style=\"color: #00af00; text-decoration-color: #00af00\">64</span>)                  │             <span style=\"color: #00af00; text-decoration-color: #00af00\">128</span> │\n",
       "├──────────────────────────────────────┼─────────────────────────────┼─────────────────┤\n",
       "│ dense_1 (<span style=\"color: #0087ff; text-decoration-color: #0087ff\">Dense</span>)                      │ (<span style=\"color: #00d7ff; text-decoration-color: #00d7ff\">None</span>, <span style=\"color: #00af00; text-decoration-color: #00af00\">64</span>)                  │           <span style=\"color: #00af00; text-decoration-color: #00af00\">4,160</span> │\n",
       "├──────────────────────────────────────┼─────────────────────────────┼─────────────────┤\n",
       "│ dense_2 (<span style=\"color: #0087ff; text-decoration-color: #0087ff\">Dense</span>)                      │ (<span style=\"color: #00d7ff; text-decoration-color: #00d7ff\">None</span>, <span style=\"color: #00af00; text-decoration-color: #00af00\">64</span>)                  │           <span style=\"color: #00af00; text-decoration-color: #00af00\">4,160</span> │\n",
       "├──────────────────────────────────────┼─────────────────────────────┼─────────────────┤\n",
       "│ dense_3 (<span style=\"color: #0087ff; text-decoration-color: #0087ff\">Dense</span>)                      │ (<span style=\"color: #00d7ff; text-decoration-color: #00d7ff\">None</span>, <span style=\"color: #00af00; text-decoration-color: #00af00\">4</span>)                   │             <span style=\"color: #00af00; text-decoration-color: #00af00\">260</span> │\n",
       "└──────────────────────────────────────┴─────────────────────────────┴─────────────────┘\n",
       "</pre>\n"
      ],
      "text/plain": [
       "┏━━━━━━━━━━━━━━━━━━━━━━━━━━━━━━━━━━━━━━┳━━━━━━━━━━━━━━━━━━━━━━━━━━━━━┳━━━━━━━━━━━━━━━━━┓\n",
       "┃\u001b[1m \u001b[0m\u001b[1mLayer (type)                        \u001b[0m\u001b[1m \u001b[0m┃\u001b[1m \u001b[0m\u001b[1mOutput Shape               \u001b[0m\u001b[1m \u001b[0m┃\u001b[1m \u001b[0m\u001b[1m        Param #\u001b[0m\u001b[1m \u001b[0m┃\n",
       "┡━━━━━━━━━━━━━━━━━━━━━━━━━━━━━━━━━━━━━━╇━━━━━━━━━━━━━━━━━━━━━━━━━━━━━╇━━━━━━━━━━━━━━━━━┩\n",
       "│ dense (\u001b[38;5;33mDense\u001b[0m)                        │ (\u001b[38;5;45mNone\u001b[0m, \u001b[38;5;34m64\u001b[0m)                  │             \u001b[38;5;34m128\u001b[0m │\n",
       "├──────────────────────────────────────┼─────────────────────────────┼─────────────────┤\n",
       "│ dense_1 (\u001b[38;5;33mDense\u001b[0m)                      │ (\u001b[38;5;45mNone\u001b[0m, \u001b[38;5;34m64\u001b[0m)                  │           \u001b[38;5;34m4,160\u001b[0m │\n",
       "├──────────────────────────────────────┼─────────────────────────────┼─────────────────┤\n",
       "│ dense_2 (\u001b[38;5;33mDense\u001b[0m)                      │ (\u001b[38;5;45mNone\u001b[0m, \u001b[38;5;34m64\u001b[0m)                  │           \u001b[38;5;34m4,160\u001b[0m │\n",
       "├──────────────────────────────────────┼─────────────────────────────┼─────────────────┤\n",
       "│ dense_3 (\u001b[38;5;33mDense\u001b[0m)                      │ (\u001b[38;5;45mNone\u001b[0m, \u001b[38;5;34m4\u001b[0m)                   │             \u001b[38;5;34m260\u001b[0m │\n",
       "└──────────────────────────────────────┴─────────────────────────────┴─────────────────┘\n"
      ]
     },
     "metadata": {},
     "output_type": "display_data"
    },
    {
     "data": {
      "text/html": [
       "<pre style=\"white-space:pre;overflow-x:auto;line-height:normal;font-family:Menlo,'DejaVu Sans Mono',consolas,'Courier New',monospace\"><span style=\"font-weight: bold\"> Total params: </span><span style=\"color: #00af00; text-decoration-color: #00af00\">8,708</span> (34.02 KB)\n",
       "</pre>\n"
      ],
      "text/plain": [
       "\u001b[1m Total params: \u001b[0m\u001b[38;5;34m8,708\u001b[0m (34.02 KB)\n"
      ]
     },
     "metadata": {},
     "output_type": "display_data"
    },
    {
     "data": {
      "text/html": [
       "<pre style=\"white-space:pre;overflow-x:auto;line-height:normal;font-family:Menlo,'DejaVu Sans Mono',consolas,'Courier New',monospace\"><span style=\"font-weight: bold\"> Trainable params: </span><span style=\"color: #00af00; text-decoration-color: #00af00\">8,708</span> (34.02 KB)\n",
       "</pre>\n"
      ],
      "text/plain": [
       "\u001b[1m Trainable params: \u001b[0m\u001b[38;5;34m8,708\u001b[0m (34.02 KB)\n"
      ]
     },
     "metadata": {},
     "output_type": "display_data"
    },
    {
     "data": {
      "text/html": [
       "<pre style=\"white-space:pre;overflow-x:auto;line-height:normal;font-family:Menlo,'DejaVu Sans Mono',consolas,'Courier New',monospace\"><span style=\"font-weight: bold\"> Non-trainable params: </span><span style=\"color: #00af00; text-decoration-color: #00af00\">0</span> (0.00 B)\n",
       "</pre>\n"
      ],
      "text/plain": [
       "\u001b[1m Non-trainable params: \u001b[0m\u001b[38;5;34m0\u001b[0m (0.00 B)\n"
      ]
     },
     "metadata": {},
     "output_type": "display_data"
    }
   ],
   "source": [
    "model.summary()"
   ]
  },
  {
   "cell_type": "code",
   "execution_count": 11,
   "id": "6b3c5162-caa8-4bd4-96b1-91eee8f2b1cf",
   "metadata": {},
   "outputs": [],
   "source": [
    "def compute_loss():\n",
    "    # Начальные условия\n",
    "    c0_pred = model(t_initial)\n",
    "    ca1_r0 = 0.0\n",
    "    ca1_i0 = 0.0\n",
    "    cb0_r0 = 1.0\n",
    "    cb0_i0 = 0.0\n",
    "    ca1_r0_pred = c0_pred[:, 0:1]\n",
    "    ca1_i0_pred = c0_pred[:, 1:2]\n",
    "    cb0_r0_pred = c0_pred[:, 2:3]\n",
    "    cb0_i0_pred = c0_pred[:, 3:4]\n",
    "\n",
    "    # MSE для начальных условий\n",
    "    loss_ic = tf.square(ca1_r0_pred - ca1_r0) + tf.square(ca1_i0_pred - ca1_i0) + \\\n",
    "    tf.square(cb0_r0_pred - cb0_r0) + tf.square(cb0_i0_pred - cb0_i0)\n",
    "\n",
    "    # Часть 2: Уравнение\n",
    "    t_colloc = tf.convert_to_tensor(t_domain)  # Убедимся, что это тензор\n",
    "    t_colloc = tf.reshape(t_colloc, (-1, 1))  # Гарантируем правильную форму\n",
    "\n",
    "    with tf.GradientTape(persistent=True) as gg:\n",
    "        gg.watch(t_colloc)\n",
    "        y = model(t_colloc)\n",
    "        ca1_r = y[:,0:1]\n",
    "        ca1_i = y[:,1:2]\n",
    "        cb0_r = y[:,2:3]\n",
    "        cb0_i = y[:,3:4]\n",
    "\n",
    "    dca1_r = gg.gradient(ca1_r, t_colloc)  # вычисление производной координаты\n",
    "    dca1_i = gg.gradient(ca1_i, t_colloc)  # вычисление производной импулься\n",
    "    dcb0_r = gg.gradient(cb0_r, t_colloc)  # вычисление производной координаты\n",
    "    dcb0_i = gg.gradient(cb0_i, t_colloc)  # вычисление производной импулься\n",
    "\n",
    "    equation1 = dca1_r - gamma*(cb0_i*tf.cos(Delta*t_colloc) - cb0_r*tf.sin(Delta*t_colloc))\n",
    "    equation2 = dca1_i + gamma*(cb0_r*tf.cos(Delta*t_colloc) + cb0_i*tf.sin(Delta*t_colloc))\n",
    "    equation3 = dcb0_r - gamma*(ca1_i*tf.cos(Delta*t_colloc) + ca1_r*tf.sin(Delta*t_colloc))\n",
    "    equation4 = dcb0_i + gamma*(ca1_r*tf.cos(Delta*t_colloc) - ca1_i*tf.sin(Delta*t_colloc))\n",
    "\n",
    "    loss_eq = tf.reduce_mean(tf.square(equation1)) + tf.reduce_mean(tf.square(equation2)) + \\\n",
    "tf.reduce_mean(tf.square(equation3)) + tf.reduce_mean(tf.square(equation4))\n",
    "\n",
    "    del gg\n",
    "    return loss_eq + loss_ic"
   ]
  },
  {
   "cell_type": "code",
   "execution_count": 13,
   "id": "fdfa0050-a985-4bff-9683-24b20a96c277",
   "metadata": {},
   "outputs": [
    {
     "data": {
      "text/plain": [
       "1.0006698"
      ]
     },
     "execution_count": 13,
     "metadata": {},
     "output_type": "execute_result"
    }
   ],
   "source": [
    "compute_loss().numpy()[0,0]"
   ]
  },
  {
   "cell_type": "code",
   "execution_count": null,
   "id": "abe6f798-6999-46f7-8395-7b19a064e359",
   "metadata": {},
   "outputs": [],
   "source": [
    "# Обучение\n",
    "loss_history = []\n",
    "for epoch in range(epochs):\n",
    "    with tf.GradientTape() as tape:\n",
    "        loss = compute_loss()\n",
    "    grads = tape.gradient(loss, model.trainable_variables)\n",
    "    optimizer.apply_gradients(zip(grads, model.trainable_variables))\n",
    "    loss_history.append(loss.numpy()[0,0])\n",
    "\n",
    "    if epoch % 100 == 0:\n",
    "        print(f'Epoch {epoch}, Loss: {loss.numpy()[0,0]:.6f}')\n"
   ]
  },
  {
   "cell_type": "code",
   "execution_count": null,
   "id": "3d6d52cf-e8ce-472e-b8f4-67f4a5f154b5",
   "metadata": {},
   "outputs": [],
   "source": [
    "# Визуализация\n",
    "import numpy as np\n",
    "from scipy.integrate import odeint\n",
    "\n",
    "def f(y, t, g, d):\n",
    "  ca1_r, ca1_i, cb0_r, cb0_i = y\n",
    "  dca1_r  = g*(cb0_i*np.cos(d*t) - cb0_r*np.sin(d*t))\n",
    "  dca1_i = - g*(cb0_r*np.cos(d*t) + cb0_i*np.sin(d*t))\n",
    "  dcb0_r = g*(ca1_i*np.cos(d*t) + ca1_r*np.sin(d*t))\n",
    "  dcb0_i = - g*(ca1_r*np.cos(d*t) - ca1_i*np.sin(d*t))\n",
    "  return [dca1_r, dca1_i, dcb0_r, dcb0_i]\n",
    "\n",
    "# Initial conditions\n",
    "y0 = [0.0, 0.0, 1.0, 0.0]\n",
    "\n",
    "# Time points\n",
    "t = np.linspace(0, 2*np.pi, 500)\n",
    "\n",
    "# Solve ODE\n",
    "sol = odeint(f, y0, t, args=(gamma, Delta))\n",
    "\n",
    "t_test = t.reshape(-1, 1)\n",
    "y_pred = model.predict(t_test, verbose=0)[:,0]**2 + model.predict(t_test, verbose=0)[:,1]**2\n",
    "y_true = np.cos(0.5*Omega_R*t_test)**2\n",
    "\n",
    "plt.figure(figsize=(12, 5))\n",
    "plt.subplot(1, 2, 1)\n",
    "plt.plot(t_test, sol[:, 0]**2 + sol[:, 1]**2, label='Аналитическое решение')\n",
    "plt.plot(t_test, y_pred, '--', label='PINN решение')\n",
    "plt.xlabel('Время')\n",
    "plt.ylabel('Смещение')\n",
    "plt.legend()\n",
    "\n",
    "plt.subplot(1, 2, 2)\n",
    "plt.semilogy(loss_history)\n",
    "plt.xlabel('Эпоха')\n",
    "plt.ylabel('Лосс (лог. масштаб)')\n",
    "plt.title('История обучения')\n",
    "plt.tight_layout()\n",
    "plt.show()"
   ]
  }
 ],
 "metadata": {
  "kernelspec": {
   "display_name": "Python [conda env:base] *",
   "language": "python",
   "name": "conda-base-py"
  },
  "language_info": {
   "codemirror_mode": {
    "name": "ipython",
    "version": 3
   },
   "file_extension": ".py",
   "mimetype": "text/x-python",
   "name": "python",
   "nbconvert_exporter": "python",
   "pygments_lexer": "ipython3",
   "version": "3.12.7"
  }
 },
 "nbformat": 4,
 "nbformat_minor": 5
}
