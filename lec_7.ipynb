{
 "cells": [
  {
   "cell_type": "markdown",
   "id": "2e45a56d-e55b-4eba-b880-cf4fffb154c5",
   "metadata": {},
   "source": [
    "# Использование библиотеки TensorFlow"
   ]
  },
  {
   "cell_type": "code",
   "execution_count": null,
   "id": "61d37522-fbd3-4772-ab1e-27c6fb602250",
   "metadata": {},
   "outputs": [],
   "source": [
    "import tensorflow as tf\n",
    "print('TensorFlow version - ',tf.__version__)\n",
    "# Check if GPU is available\n",
    "gpu_available = tf.config.list_physical_devices('GPU')\n",
    "\n",
    "if gpu_available:\n",
    "    print(\"TensorFlow is installed as GPU version.\")\n",
    "else:\n",
    "    print(\"TensorFlow is installed as CPU version.\")"
   ]
  },
  {
   "cell_type": "markdown",
   "id": "65f716b8-3664-4e33-bac3-dfcbdadd64df",
   "metadata": {},
   "source": [
    "Тензоры (Tensors)\n",
    "Тензоры — это многомерные массивы данных, основа TensorFlow.\n",
    "\n",
    "- Скаляр (0D тензор) — 5, 3.14\n",
    "\n",
    "- Вектор (1D тензор) — [1, 2, 3]\n",
    "\n",
    "- Матрица (2D тензор) — [[1, 2], [3, 4]]\n",
    "\n",
    "- 3D+ тензоры — [[[1, 2], [3, 4]], [[5, 6], [7, 8]]]"
   ]
  },
  {
   "cell_type": "code",
   "execution_count": null,
   "id": "83a32a13-20df-469c-a563-5881e8d80dca",
   "metadata": {},
   "outputs": [],
   "source": [
    "tensor = tf.constant([[1, 2], [3, 4]])\n",
    "print(tensor)"
   ]
  },
  {
   "cell_type": "code",
   "execution_count": null,
   "id": "e3b0f298-bda6-414d-b6b7-db7798af5efc",
   "metadata": {},
   "outputs": [],
   "source": [
    "var = tf.Variable(3.0)\n",
    "var.assign(5.0)  # изменение значения"
   ]
  },
  {
   "cell_type": "markdown",
   "id": "314d6bb0-72b2-47f4-8200-de5151b872fc",
   "metadata": {},
   "source": [
    "Граф вычислений (Computational Graph) — это фундаментальная концепция TensorFlow, которая определяет, как операции выполняются над данными. До версии TensorFlow 2.x графы были **явными** (статическими), а в TF 2.x+ они стали **динамическими** благодаря eager execution, но остаются важными для оптимизации и распределенных вычислений.\n",
    "\n",
    "---\n",
    "\n",
    "## **1. Что такое граф вычислений?**\n",
    "Граф вычислений — это направленный ациклический граф (DAG), где:\n",
    "- **Узлы (Nodes)** — операции (например, сложение, умножение, активация).\n",
    "- **Ребра (Edges)** — тензоры, передаваемые между операциями.\n",
    "\n",
    "### Пример графа для формулы `y = (a + b) * c`:\n",
    "```\n",
    "   a     b\n",
    "    \\   /\n",
    "     Add\n",
    "       \\\n",
    "       Multiply → y\n",
    "         /\n",
    "       c\n",
    "```\n",
    "\n",
    "---\n",
    "\n",
    "## **2. Статический граф (TF 1.x) vs Динамический граф (TF 2.x)**\n",
    "### **TF 1.x: Статический граф**\n",
    "- Граф создавался заранее, а вычисления происходили в сессии (`tf.Session`).\n",
    "- Плюсы: оптимизация под GPU/TPU, эффективное распределение вычислений.\n",
    "- Минусы: сложный дебаггинг, неестественный синтаксис.\n"
   ]
  },
  {
   "cell_type": "code",
   "execution_count": null,
   "id": "a4ab0d46-bc45-4ebf-855d-d644d0df47a3",
   "metadata": {},
   "outputs": [],
   "source": [
    "# Создаем новый граф\n",
    "graph = tf.Graph()\n",
    "\n",
    "with graph.as_default():\n",
    "    a = tf.constant(3, name=\"input_a\")\n",
    "    b = tf.constant(5, name=\"input_b\")\n",
    "    c = tf.add(a, b, name=\"add_result\")\n",
    "    d = tf.multiply(c, 2, name=\"final_result\")\n",
    "\n",
    "# Запускаем граф в сессии (в TF 2.x сессии почти не используются)\n",
    "with tf.compat.v1.Session(graph=graph) as sess:\n",
    "    result = sess.run(d)\n",
    "    print(result)  # 16"
   ]
  },
  {
   "cell_type": "markdown",
   "id": "10dc4991-df02-4b04-9c26-d5c3cc50d3dc",
   "metadata": {},
   "source": [
    "### **TF 2.x: Динамический граф (Eager Execution)**\n",
    "- Операции выполняются сразу, как в NumPy.\n",
    "- Плюсы: простота, удобство отладки.\n",
    "- Минусы: меньшая производительность \"из коробки\" (но графы можно сохранять через `@tf.function`)."
   ]
  },
  {
   "cell_type": "code",
   "execution_count": null,
   "id": "2e280eaa-0778-41de-a82e-8a430088000f",
   "metadata": {},
   "outputs": [],
   "source": [
    "# TensorFlow 2.x\n",
    "a, b, c = 2.0, 4.0, 3.0\n",
    "y = (a + b) * c  # Считается мгновенно\n",
    "print(y)  # 18.0"
   ]
  },
  {
   "cell_type": "markdown",
   "id": "3f5d0116-f7d4-4d21-80c6-29d8bf23279e",
   "metadata": {},
   "source": [
    "## **3. Как TensorFlow 2.x использует графы?**\n",
    "Хотя eager execution включен по умолчанию, графы все равно применяются для:\n",
    "1. **Автоматической оптимизации** (например, fusion операций).\n",
    "2. **Распределенных вычислений** (многопоточность, GPU/TPU).\n",
    "3. **Экспорта моделей** (например, в SavedModel для TensorFlow Serving).\n",
    "\n",
    "### **Включение режима графа: `@tf.function`**\n",
    "Декоратор преобразует Python-функцию в статический граф:"
   ]
  },
  {
   "cell_type": "code",
   "execution_count": null,
   "id": "037661b7-3786-4f30-a0f4-f869d2586266",
   "metadata": {},
   "outputs": [],
   "source": [
    "@tf.function\n",
    "def compute(a, b, c):\n",
    "    return (a + b) * c\n",
    "\n",
    "result = compute(tf.constant(2.0), tf.constant(4.0), tf.constant(3.0))\n",
    "print(result)  # tf.Tensor(18.0, shape=(), dtype=float32)"
   ]
  },
  {
   "cell_type": "markdown",
   "id": "33cb497b-3764-44a0-aaad-4579c5676f84",
   "metadata": {},
   "source": [
    "- **Преимущества**: ускорение кода, переносимость (граф можно сохранить).\n",
    "- **Ограничения**: не все Python-операции поддерживаются внутри `@tf.function`.\n",
    "\n",
    "## **4. Просмотр графа в TensorBoard**\n",
    "Визуализация помогает анализировать сложные модели. Пример:"
   ]
  },
  {
   "cell_type": "code",
   "execution_count": null,
   "id": "2280bca0-cfc2-4e93-87dc-b6842153ca64",
   "metadata": {},
   "outputs": [],
   "source": [
    "# Создаем лог-директорию\n",
    "log_dir = \"logs/\"\n",
    "writer = tf.summary.create_file_writer(log_dir)\n",
    "\n",
    "# Записываем граф\n",
    "@tf.function\n",
    "def my_func(x, y):\n",
    "    return x ** 2 + y ** 2\n",
    "\n",
    "# Трассировка графа\n",
    "tf.summary.trace_on(graph=True)\n",
    "my_func(tf.constant(2.0), tf.constant(3.0))\n",
    "with writer.as_default():\n",
    "    tf.summary.trace_export(name=\"my_func\", step=0)"
   ]
  },
  {
   "cell_type": "markdown",
   "id": "2a96a196-ee5b-4720-b974-726129b6ceea",
   "metadata": {},
   "source": [
    "Запустите TensorBoard:\n",
    "```bash\n",
    "tensorboard --logdir logs/\n",
    "```\n",
    "---\n",
    "\n",
    "## **5. Как графы ускоряют вычисления?**\n",
    "1. **Оптимизация операций**:\n",
    "   - Объединение (fusion) слоев (например, `Conv2D + ReLU` → `FusedConv2D`).\n",
    "   - Удаление избыточных вычислений.\n",
    "2. **Параллелизм**:\n",
    "   - Независимые операции выполняются одновременно.\n",
    "3. **Распределение на устройствах**:\n",
    "   - Часть графа может выполняться на GPU, часть — на CPU.\n",
    "\n",
    "---\n",
    "\n",
    "## **6. Пример: Граф для нейронной сети**\n",
    "Рассмотрим двухслойную сеть:"
   ]
  },
  {
   "cell_type": "code",
   "execution_count": null,
   "id": "a251853d-10f2-4fc5-92ab-e335b1d07717",
   "metadata": {},
   "outputs": [],
   "source": [
    "model = tf.keras.Sequential([\n",
    "    tf.keras.layers.Dense(64, activation='relu'),\n",
    "    tf.keras.layers.Dense(10)\n",
    "])"
   ]
  },
  {
   "cell_type": "markdown",
   "id": "ebfd6b60-2c36-44df-bc0f-fbf2a4ad9222",
   "metadata": {},
   "source": [
    "Ее граф включает:\n",
    "- Входные данные → `Dense` → `ReLU` → `Dense` → Выход.\n",
    "- Каждый слой — это набор операций (`matmul`, `add`, `activation`).\n",
    "\n",
    "---\n",
    "\n",
    "## **7. Когда использовать графы явно?**\n",
    "1. **Производительность**: если код медленный в eager mode.\n",
    "2. **Экспорт моделей**: SavedModel/TFLite требуют графов.\n",
    "3. **Распределенное обучение**: стратегии вроде `tf.distribute.MirroredStrategy`.\n",
    "\n",
    "---\n",
    "\n",
    "## **8. Ограничения графов**\n",
    "- **Динамические конструкции Python**: `if`, `for` могут требовать модификации.\n",
    "- **Отладка**: сложнее, чем в eager execution (используйте `tf.print`)."
   ]
  },
  {
   "cell_type": "markdown",
   "id": "82cdcfc5-d80e-4f7b-a4ba-a1dc038dce72",
   "metadata": {},
   "source": [
    "## В TensorFlow GradientTape \n",
    "\n",
    "автоматически вычисляет градиенты, что полезно для задач оптимизации, включая поиск минимума функции\n",
    "\n",
    "## 1. Простой пример: минимизация $ f(x)= x^2$.\n",
    "\n",
    "Ищем $x$, при котором функция достигает минимума (очевидно, $x=0$)."
   ]
  },
  {
   "cell_type": "code",
   "execution_count": null,
   "id": "5f03c013-d182-4a54-95b8-d476c46efa48",
   "metadata": {},
   "outputs": [],
   "source": [
    "# Инициализация переменной (начальное значение x = 4.0)\n",
    "x = tf.Variable(4.0)  \n",
    "\n",
    "# Функция: f(x) = x²\n",
    "def f(x):\n",
    "    return x ** 2\n",
    "\n",
    "# Градиентный спуск\n",
    "learning_rate = 0.75  # Шаг обучения\n",
    "epochs = 50          # Количество итераций\n",
    "\n",
    "for epoch in range(epochs):\n",
    "    with tf.GradientTape() as tape:\n",
    "        y = f(x)  # Вычисляем значение функции\n",
    "    \n",
    "    # Вычисляем градиент dy/dx\n",
    "    grad = tape.gradient(y, x)\n",
    "    \n",
    "    # Обновляем x по градиенту: x_new = x - lr * grad\n",
    "    x.assign_sub(learning_rate * grad)\n",
    "    \n",
    "    print(f\"Epoch {epoch}: x = {x.numpy():.3f}, y = {y.numpy():.3f}, grad = {grad.numpy():.3f}\")"
   ]
  },
  {
   "cell_type": "markdown",
   "id": "8fe952da-77a5-46cc-a79b-e2e8af045aa8",
   "metadata": {},
   "source": [
    "## 2. Пример с двумя переменными: минимизация $f(x,y)=x^2 + y^2$\n",
    "\n",
    "Ищем минимум функции двух переменных (ожидаемый результат:  $x=0$, $y=0$)."
   ]
  },
  {
   "cell_type": "code",
   "execution_count": null,
   "id": "fea78cc7-99ca-43a3-a02c-d0e0a60fb0fb",
   "metadata": {},
   "outputs": [],
   "source": [
    "import tensorflow as tf\n",
    "\n",
    "# Инициализация переменных\n",
    "x = tf.Variable(3.0)\n",
    "y = tf.Variable(2.0)\n",
    "\n",
    "# Функция: f(x, y) = x² + y²\n",
    "def f(x, y):\n",
    "    return x ** 2 + y ** 2\n",
    "\n",
    "# Параметры оптимизации\n",
    "learning_rate = 0.1\n",
    "epochs = 40\n",
    "\n",
    "for epoch in range(epochs):\n",
    "    with tf.GradientTape() as tape:\n",
    "        loss = f(x, y)  # Вычисляем значение функции\n",
    "    \n",
    "    # Вычисляем градиенты по обеим переменным\n",
    "    grads = tape.gradient(loss, [x, y])\n",
    "    \n",
    "    # Обновляем переменные\n",
    "    x.assign_sub(learning_rate * grads[0])\n",
    "    y.assign_sub(learning_rate * grads[1])\n",
    "    \n",
    "    print(f\"Epoch {epoch}: x = {x.numpy():.3f}, y = {y.numpy():.3f}, loss = {loss.numpy():.3f}\")"
   ]
  },
  {
   "cell_type": "markdown",
   "id": "39d350f3-eb8c-4b1d-a4db-0de9644e7ec1",
   "metadata": {},
   "source": [
    "### **3. Использование оптимизатора (Adam)**\n",
    "Вместо ручного обновления переменных можно использовать встроенные оптимизаторы, например, `Adam`."
   ]
  },
  {
   "cell_type": "code",
   "execution_count": null,
   "id": "d8f634d5-0538-44e8-af70-2039016f3502",
   "metadata": {},
   "outputs": [],
   "source": [
    "# Инициализация переменной и оптимизатора\n",
    "x = tf.Variable(5.0)\n",
    "optimizer = tf.keras.optimizers.Adam(learning_rate=1.0)\n",
    "\n",
    "# Функция для минимизации\n",
    "def f(x):\n",
    "    return x ** 2 + 2 * x + 1  # Минимум при x = -1\n",
    "\n",
    "for epoch in range(50):\n",
    "    with tf.GradientTape() as tape:\n",
    "        loss = f(x)\n",
    "    \n",
    "    grads = tape.gradient(loss, [x])\n",
    "    optimizer.apply_gradients(zip(grads, [x]))\n",
    "    \n",
    "    print(f\"Epoch {epoch}: x = {x.numpy():.3f}, loss = {loss.numpy():.3f}\")"
   ]
  },
  {
   "cell_type": "markdown",
   "id": "dd0daf20-aeb4-485e-bbe8-1747e4b3b311",
   "metadata": {},
   "source": [
    "### **4. Минимизация негладкой функции (например, $ f(x) = |x| $)**\n",
    "Функция $ f(x) = |x| $ не дифференцируема в $ x = 0 $, но `GradientTape` справится."
   ]
  },
  {
   "cell_type": "code",
   "execution_count": null,
   "id": "cb60ccf8-6c83-45e1-bead-b4a2e0172843",
   "metadata": {},
   "outputs": [],
   "source": [
    "x = tf.Variable(5.0)\n",
    "optimizer = tf.keras.optimizers.Adam(learning_rate=1.0)\n",
    "\n",
    "# Функция для минимизации\n",
    "def f(x):\n",
    "    return tf.abs(x)  # Минимум при x = -1\n",
    "\n",
    "for epoch in range(50):\n",
    "    with tf.GradientTape() as tape:\n",
    "        loss = f(x)\n",
    "    \n",
    "    grads = tape.gradient(loss, [x])\n",
    "    optimizer.apply_gradients(zip(grads, [x]))\n",
    "    \n",
    "    print(f\"Epoch {epoch}: x = {x.numpy():.3f}, loss = {loss.numpy():.3f}\")"
   ]
  },
  {
   "cell_type": "markdown",
   "id": "d0dd9fbd-788e-42f2-bf0c-310aa6c4a477",
   "metadata": {},
   "source": [
    "### **Ключевые моменты**\n",
    "1. **`GradientTape`** записывает операции для автоматического вычисления градиентов.\n",
    "2. **Обновление переменных**:\n",
    "   - Вручную: `x.assign_sub(lr * grad)`.\n",
    "   - Через оптимизатор: `optimizer.apply_gradients()`.\n",
    "3. **Функции могут быть любыми**, включая нейронные сети (градиенты считаются по цепному правилу).\n",
    "\n",
    "---\n",
    "\n",
    "### **Когда это полезно?**\n",
    "- Кастомные алгоритмы оптимизации.\n",
    "- Обучение моделей не из `tf.keras`"
   ]
  },
  {
   "cell_type": "markdown",
   "id": "4e3830bf-de52-43b3-80e0-2670cedcf52d",
   "metadata": {},
   "source": [
    "## Использование фреймворка `tf.keras`  "
   ]
  },
  {
   "cell_type": "code",
   "execution_count": 1,
   "id": "2c3e0433-4a53-4e56-9643-fd0741871114",
   "metadata": {},
   "outputs": [
    {
     "data": {
      "image/png": "[encoded data removed]",
      "text/plain": [
       "<Figure size 640x480 with 1 Axes>"
      ]
     },
     "metadata": {},
     "output_type": "display_data"
    }
   ],
   "source": [
    "import numpy as np\n",
    "import matplotlib.pyplot as plt\n",
    "import tensorflow as tf\n",
    "from tensorflow.keras.models import Sequential\n",
    "from tensorflow.keras.layers import Dense\n",
    "\n",
    "# Генерация синтетических данных\n",
    "np.random.seed(42)\n",
    "X = np.linspace(0, 10, 100)  # 100 точек от 0 до 10\n",
    "y = 2 * X + 3 + 0.0*np.random.normal(0, 1, 100)  # y = 2x + 3 + шум\n",
    "\n",
    "# Визуализация данных\n",
    "plt.scatter(X, y, label='Исходные данные')\n",
    "plt.xlabel('X')\n",
    "plt.ylabel('y')\n",
    "plt.legend()\n",
    "plt.show()"
   ]
  },
  {
   "cell_type": "code",
   "execution_count": 3,
   "id": "4d83c035-2d5b-4ecb-a951-9d1e2e58f930",
   "metadata": {},
   "outputs": [
    {
     "name": "stderr",
     "output_type": "stream",
     "text": [
      "C:\\Users\\denis\\anaconda3\\Lib\\site-packages\\keras\\src\\layers\\core\\dense.py:87: UserWarning: Do not pass an `input_shape`/`input_dim` argument to a layer. When using Sequential models, prefer using an `Input(shape)` object as the first layer in the model instead.\n",
      "  super().__init__(activity_regularizer=activity_regularizer, **kwargs)\n"
     ]
    },
    {
     "data": {
      "text/html": [
       "<pre style=\"white-space:pre;overflow-x:auto;line-height:normal;font-family:Menlo,'DejaVu Sans Mono',consolas,'Courier New',monospace\"><span style=\"font-weight: bold\">Model: \"sequential\"</span>\n",
       "</pre>\n"
      ],
      "text/plain": [
       "\u001b[1mModel: \"sequential\"\u001b[0m\n"
      ]
     },
     "metadata": {},
     "output_type": "display_data"
    },
    {
     "data": {
      "text/html": [
       "<pre style=\"white-space:pre;overflow-x:auto;line-height:normal;font-family:Menlo,'DejaVu Sans Mono',consolas,'Courier New',monospace\">┏━━━━━━━━━━━━━━━━━━━━━━━━━━━━━━━━━━━━━━┳━━━━━━━━━━━━━━━━━━━━━━━━━━━━━┳━━━━━━━━━━━━━━━━━┓\n",
       "┃<span style=\"font-weight: bold\"> Layer (type)                         </span>┃<span style=\"font-weight: bold\"> Output Shape                </span>┃<span style=\"font-weight: bold\">         Param # </span>┃\n",
       "┡━━━━━━━━━━━━━━━━━━━━━━━━━━━━━━━━━━━━━━╇━━━━━━━━━━━━━━━━━━━━━━━━━━━━━╇━━━━━━━━━━━━━━━━━┩\n",
       "│ dense (<span style=\"color: #0087ff; text-decoration-color: #0087ff\">Dense</span>)                        │ (<span style=\"color: #00d7ff; text-decoration-color: #00d7ff\">None</span>, <span style=\"color: #00af00; text-decoration-color: #00af00\">1</span>)                   │               <span style=\"color: #00af00; text-decoration-color: #00af00\">2</span> │\n",
       "└──────────────────────────────────────┴─────────────────────────────┴─────────────────┘\n",
       "</pre>\n"
      ],
      "text/plain": [
       "┏━━━━━━━━━━━━━━━━━━━━━━━━━━━━━━━━━━━━━━┳━━━━━━━━━━━━━━━━━━━━━━━━━━━━━┳━━━━━━━━━━━━━━━━━┓\n",
       "┃\u001b[1m \u001b[0m\u001b[1mLayer (type)                        \u001b[0m\u001b[1m \u001b[0m┃\u001b[1m \u001b[0m\u001b[1mOutput Shape               \u001b[0m\u001b[1m \u001b[0m┃\u001b[1m \u001b[0m\u001b[1m        Param #\u001b[0m\u001b[1m \u001b[0m┃\n",
       "┡━━━━━━━━━━━━━━━━━━━━━━━━━━━━━━━━━━━━━━╇━━━━━━━━━━━━━━━━━━━━━━━━━━━━━╇━━━━━━━━━━━━━━━━━┩\n",
       "│ dense (\u001b[38;5;33mDense\u001b[0m)                        │ (\u001b[38;5;45mNone\u001b[0m, \u001b[38;5;34m1\u001b[0m)                   │               \u001b[38;5;34m2\u001b[0m │\n",
       "└──────────────────────────────────────┴─────────────────────────────┴─────────────────┘\n"
      ]
     },
     "metadata": {},
     "output_type": "display_data"
    },
    {
     "data": {
      "text/html": [
       "<pre style=\"white-space:pre;overflow-x:auto;line-height:normal;font-family:Menlo,'DejaVu Sans Mono',consolas,'Courier New',monospace\"><span style=\"font-weight: bold\"> Total params: </span><span style=\"color: #00af00; text-decoration-color: #00af00\">2</span> (8.00 B)\n",
       "</pre>\n"
      ],
      "text/plain": [
       "\u001b[1m Total params: \u001b[0m\u001b[38;5;34m2\u001b[0m (8.00 B)\n"
      ]
     },
     "metadata": {},
     "output_type": "display_data"
    },
    {
     "data": {
      "text/html": [
       "<pre style=\"white-space:pre;overflow-x:auto;line-height:normal;font-family:Menlo,'DejaVu Sans Mono',consolas,'Courier New',monospace\"><span style=\"font-weight: bold\"> Trainable params: </span><span style=\"color: #00af00; text-decoration-color: #00af00\">2</span> (8.00 B)\n",
       "</pre>\n"
      ],
      "text/plain": [
       "\u001b[1m Trainable params: \u001b[0m\u001b[38;5;34m2\u001b[0m (8.00 B)\n"
      ]
     },
     "metadata": {},
     "output_type": "display_data"
    },
    {
     "data": {
      "text/html": [
       "<pre style=\"white-space:pre;overflow-x:auto;line-height:normal;font-family:Menlo,'DejaVu Sans Mono',consolas,'Courier New',monospace\"><span style=\"font-weight: bold\"> Non-trainable params: </span><span style=\"color: #00af00; text-decoration-color: #00af00\">0</span> (0.00 B)\n",
       "</pre>\n"
      ],
      "text/plain": [
       "\u001b[1m Non-trainable params: \u001b[0m\u001b[38;5;34m0\u001b[0m (0.00 B)\n"
      ]
     },
     "metadata": {},
     "output_type": "display_data"
    }
   ],
   "source": [
    "# Создание модели\n",
    "model = Sequential([\n",
    "    Dense(units=1, input_shape=[1])  # Один полносвязный слой (Dense) с 1 нейроном\n",
    "])\n",
    "\n",
    "# Компиляция модели\n",
    "model.compile(\n",
    "    optimizer='adam',  # Оптимизатор (можно также использовать 'sgd')\n",
    "    loss='mse',       # Функция потерь (среднеквадратичная ошибка)\n",
    "    metrics=['mae']   # Метрика (средняя абсолютная ошибка)\n",
    ")\n",
    "\n",
    "# Вывод структуры модели\n",
    "model.summary()"
   ]
  },
  {
   "cell_type": "code",
   "execution_count": 9,
   "id": "496fb137-f9b8-4594-a436-d3a76cab118c",
   "metadata": {},
   "outputs": [
    {
     "ename": "TypeError",
     "evalue": "TensorFlowTrainer.fit() got an unexpected keyword argument 'learning_rate'",
     "output_type": "error",
     "traceback": [
      "\u001b[1;31m---------------------------------------------------------------------------\u001b[0m",
      "\u001b[1;31mTypeError\u001b[0m                                 Traceback (most recent call last)",
      "Cell \u001b[1;32mIn[9], line 2\u001b[0m\n\u001b[0;32m      1\u001b[0m \u001b[38;5;66;03m# Обучение модели\u001b[39;00m\n\u001b[1;32m----> 2\u001b[0m history \u001b[38;5;241m=\u001b[39m model\u001b[38;5;241m.\u001b[39mfit(\n\u001b[0;32m      3\u001b[0m     X, y,\n\u001b[0;32m      4\u001b[0m     learning_rate \u001b[38;5;241m=\u001b[39m \u001b[38;5;241m1.0\u001b[39m,\n\u001b[0;32m      5\u001b[0m     epochs\u001b[38;5;241m=\u001b[39m\u001b[38;5;241m1000\u001b[39m,       \u001b[38;5;66;03m# Количество эпох\u001b[39;00m\n\u001b[0;32m      6\u001b[0m     verbose\u001b[38;5;241m=\u001b[39m\u001b[38;5;241m1\u001b[39m         \u001b[38;5;66;03m# Вывод процесса обучения\u001b[39;00m\n\u001b[0;32m      7\u001b[0m )\n\u001b[0;32m      9\u001b[0m \u001b[38;5;66;03m# График изменения ошибки\u001b[39;00m\n\u001b[0;32m     10\u001b[0m plt\u001b[38;5;241m.\u001b[39mplot(history\u001b[38;5;241m.\u001b[39mhistory[\u001b[38;5;124m'\u001b[39m\u001b[38;5;124mloss\u001b[39m\u001b[38;5;124m'\u001b[39m], label\u001b[38;5;241m=\u001b[39m\u001b[38;5;124m'\u001b[39m\u001b[38;5;124mMSE (Loss)\u001b[39m\u001b[38;5;124m'\u001b[39m)\n",
      "File \u001b[1;32m~\\anaconda3\\Lib\\site-packages\\keras\\src\\utils\\traceback_utils.py:122\u001b[0m, in \u001b[0;36mfilter_traceback.<locals>.error_handler\u001b[1;34m(*args, **kwargs)\u001b[0m\n\u001b[0;32m    119\u001b[0m     filtered_tb \u001b[38;5;241m=\u001b[39m _process_traceback_frames(e\u001b[38;5;241m.\u001b[39m__traceback__)\n\u001b[0;32m    120\u001b[0m     \u001b[38;5;66;03m# To get the full stack trace, call:\u001b[39;00m\n\u001b[0;32m    121\u001b[0m     \u001b[38;5;66;03m# `keras.config.disable_traceback_filtering()`\u001b[39;00m\n\u001b[1;32m--> 122\u001b[0m     \u001b[38;5;28;01mraise\u001b[39;00m e\u001b[38;5;241m.\u001b[39mwith_traceback(filtered_tb) \u001b[38;5;28;01mfrom\u001b[39;00m \u001b[38;5;28;01mNone\u001b[39;00m\n\u001b[0;32m    123\u001b[0m \u001b[38;5;28;01mfinally\u001b[39;00m:\n\u001b[0;32m    124\u001b[0m     \u001b[38;5;28;01mdel\u001b[39;00m filtered_tb\n",
      "File \u001b[1;32m~\\anaconda3\\Lib\\site-packages\\keras\\src\\utils\\traceback_utils.py:117\u001b[0m, in \u001b[0;36mfilter_traceback.<locals>.error_handler\u001b[1;34m(*args, **kwargs)\u001b[0m\n\u001b[0;32m    115\u001b[0m filtered_tb \u001b[38;5;241m=\u001b[39m \u001b[38;5;28;01mNone\u001b[39;00m\n\u001b[0;32m    116\u001b[0m \u001b[38;5;28;01mtry\u001b[39;00m:\n\u001b[1;32m--> 117\u001b[0m     \u001b[38;5;28;01mreturn\u001b[39;00m fn(\u001b[38;5;241m*\u001b[39margs, \u001b[38;5;241m*\u001b[39m\u001b[38;5;241m*\u001b[39mkwargs)\n\u001b[0;32m    118\u001b[0m \u001b[38;5;28;01mexcept\u001b[39;00m \u001b[38;5;167;01mException\u001b[39;00m \u001b[38;5;28;01mas\u001b[39;00m e:\n\u001b[0;32m    119\u001b[0m     filtered_tb \u001b[38;5;241m=\u001b[39m _process_traceback_frames(e\u001b[38;5;241m.\u001b[39m__traceback__)\n",
      "\u001b[1;31mTypeError\u001b[0m: TensorFlowTrainer.fit() got an unexpected keyword argument 'learning_rate'"
     ]
    }
   ],
   "source": [
    "# Обучение модели\n",
    "history = model.fit(\n",
    "    X, y,\n",
    "    epochs=1000,       # Количество эпох\n",
    "    verbose=1         # Вывод процесса обучения\n",
    ")\n",
    "\n",
    "# График изменения ошибки\n",
    "plt.plot(history.history['loss'], label='MSE (Loss)')\n",
    "plt.xlabel('Epoch')\n",
    "plt.ylabel('Loss')\n",
    "plt.legend()\n",
    "plt.show()"
   ]
  },
  {
   "cell_type": "code",
   "execution_count": 7,
   "id": "879da38e-eb1b-4d8c-9562-89778ebf28fd",
   "metadata": {},
   "outputs": [
    {
     "name": "stdout",
     "output_type": "stream",
     "text": [
      "\u001b[1m2/2\u001b[0m \u001b[32m━━━━━━━━━━━━━━━━━━━━\u001b[0m\u001b[37m\u001b[0m \u001b[1m0s\u001b[0m 88ms/step\n"
     ]
    },
    {
     "data": {
      "image/png": "[encoded data removed]",
      "text/plain": [
       "<Figure size 640x480 with 1 Axes>"
      ]
     },
     "metadata": {},
     "output_type": "display_data"
    },
    {
     "name": "stdout",
     "output_type": "stream",
     "text": [
      "Обученные коэффициенты: w = 2.04, b = 2.31\n"
     ]
    }
   ],
   "source": [
    "# Предсказание на новых данных\n",
    "X_test = np.linspace(0, 10, 50)\n",
    "y_pred = model.predict(X_test)\n",
    "\n",
    "# Визуализация\n",
    "plt.scatter(X, y, label='Исходные данные')\n",
    "plt.plot(X_test, y_pred, color='red', label='Предсказание модели')\n",
    "plt.xlabel('X')\n",
    "plt.ylabel('y')\n",
    "plt.legend()\n",
    "plt.show()\n",
    "\n",
    "# Вывод обученных коэффициентов\n",
    "w, b = model.layers[0].get_weights()\n",
    "print(f\"Обученные коэффициенты: w = {w[0][0]:.2f}, b = {b[0]:.2f}\")"
   ]
  },
  {
   "cell_type": "code",
   "execution_count": null,
   "id": "4bf21257-a9db-4a77-9d23-c845d0578ee1",
   "metadata": {},
   "outputs": [],
   "source": []
  }
 ],
 "metadata": {
  "kernelspec": {
   "display_name": "Python [conda env:base] *",
   "language": "python",
   "name": "conda-base-py"
  },
  "language_info": {
   "codemirror_mode": {
    "name": "ipython",
    "version": 3
   },
   "file_extension": ".py",
   "mimetype": "text/x-python",
   "name": "python",
   "nbconvert_exporter": "python",
   "pygments_lexer": "ipython3",
   "version": "3.12.7"
  }
 },
 "nbformat": 4,
 "nbformat_minor": 5
}
